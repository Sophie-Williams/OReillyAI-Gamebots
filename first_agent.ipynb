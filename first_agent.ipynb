{
 "cells": [
  {
   "cell_type": "code",
   "execution_count": 1,
   "metadata": {
    "collapsed": true
   },
   "outputs": [],
   "source": [
    "# Import dependencies\n",
    "import gym\n",
    "import universe  # register the universe environments"
   ]
  },
  {
   "cell_type": "code",
   "execution_count": 2,
   "metadata": {
    "collapsed": false
   },
   "outputs": [
    {
     "name": "stderr",
     "output_type": "stream",
     "text": [
      "[2017-06-28 03:33:09,837] Making new env: flashgames.DuskDrive-v0\n"
     ]
    }
   ],
   "source": [
    "# Next, we create the environment instance. \n",
    "# This is a VNCEnv object.\n",
    "env = gym.make('flashgames.DuskDrive-v0')"
   ]
  },
  {
   "cell_type": "code",
   "execution_count": 3,
   "metadata": {
    "collapsed": false
   },
   "outputs": [
    {
     "name": "stderr",
     "output_type": "stream",
     "text": [
      "[2017-06-28 03:33:12,023] Writing logs to file: /tmp/universe-36971.log\n",
      "[2017-06-28 03:33:12,061] Ports used: []\n",
      "[2017-06-28 03:33:12,063] [0] Creating container: image=quay.io/openai/universe.flashgames:0.20.28. Run the same thing by hand as: docker run -p 5900:5900 -p 15900:15900 --cap-add SYS_ADMIN --ipc host --privileged quay.io/openai/universe.flashgames:0.20.28\n",
      "[2017-06-28 03:33:12,900] [0] Could not start container: 500 Server Error: Internal Server Error (\"{\"message\":\"driver failed programming external connectivity on endpoint universe-8cgkAS-0 (ce74caffb133a4f7ed459984bfca549593f46f8411e8f9fa67c24c8c967791d0): Error starting userland proxy: Bind for 0.0.0.0:5900 failed: port is already allocated\"}\")\n",
      "[2017-06-28 03:33:12,901] Killing and removing container: id=700d0d79119cc4645586db96269f99055ba6a319e6011c657441270aa2541c48\n",
      "[2017-06-28 03:33:14,591] Ports used: []\n",
      "[2017-06-28 03:33:14,592] [0] Creating container: image=quay.io/openai/universe.flashgames:0.20.28. Run the same thing by hand as: docker run -p 5901:5900 -p 15901:15900 --cap-add SYS_ADMIN --ipc host --privileged quay.io/openai/universe.flashgames:0.20.28\n",
      "[2017-06-28 03:33:15,989] Remote closed: address=localhost:5901\n",
      "[2017-06-28 03:33:15,992] At least one sockets was closed by the remote. Sleeping 1s...\n"
     ]
    },
    {
     "name": "stdout",
     "output_type": "stream",
     "text": [
      "\u001b[36muniverse-8cgkAS-0 |\u001b[0m Setting VNC and rewarder password: openai\n",
      "\u001b[36muniverse-8cgkAS-0 |\u001b[0m [Wed Jun 28 07:33:15 UTC 2017] Waiting for /tmp/.X11-unix/X0 to be created (try 1/10)\n",
      "\u001b[36muniverse-8cgkAS-0 |\u001b[0m [tigervnc] \n",
      "\u001b[36muniverse-8cgkAS-0 |\u001b[0m [tigervnc] Xvnc TigerVNC 1.7.0 - built Sep  8 2016 10:39:22\n",
      "\u001b[36muniverse-8cgkAS-0 |\u001b[0m [tigervnc] Copyright (C) 1999-2016 TigerVNC Team and many others (see README.txt)\n",
      "\u001b[36muniverse-8cgkAS-0 |\u001b[0m [tigervnc] See http://www.tigervnc.org for information on TigerVNC.\n",
      "\u001b[36muniverse-8cgkAS-0 |\u001b[0m [tigervnc] Underlying X server release 11400000, The X.Org Foundation\n",
      "\u001b[36muniverse-8cgkAS-0 |\u001b[0m [tigervnc] \n",
      "\u001b[36muniverse-8cgkAS-0 |\u001b[0m [tigervnc] Initializing built-in extension VNC-EXTENSION\n",
      "\u001b[36muniverse-8cgkAS-0 |\u001b[0m [tigervnc] Initializing built-in extension Generic Event Extension\n",
      "\u001b[36muniverse-8cgkAS-0 |\u001b[0m [tigervnc] Initializing built-in extension SHAPE\n",
      "\u001b[36muniverse-8cgkAS-0 |\u001b[0m [tigervnc] Initializing built-in extension MIT-SHM\n",
      "\u001b[36muniverse-8cgkAS-0 |\u001b[0m [tigervnc] Initializing built-in extension XInputExtension\n",
      "\u001b[36muniverse-8cgkAS-0 |\u001b[0m [tigervnc] Initializing built-in extension XTEST\n",
      "\u001b[36muniverse-8cgkAS-0 |\u001b[0m [tigervnc] Initializing built-in extension BIG-REQUESTS\n",
      "\u001b[36muniverse-8cgkAS-0 |\u001b[0m [tigervnc] Initializing built-in extension SYNC\n",
      "\u001b[36muniverse-8cgkAS-0 |\u001b[0m [tigervnc] Initializing built-in extension XKEYBOARD\n",
      "\u001b[36muniverse-8cgkAS-0 |\u001b[0m [tigervnc] Initializing built-in extension XC-MISC\n",
      "\u001b[36muniverse-8cgkAS-0 |\u001b[0m [tigervnc] Initializing built-in extension XINERAMA\n",
      "\u001b[36muniverse-8cgkAS-0 |\u001b[0m [tigervnc] Initializing built-in extension XFIXES\n",
      "\u001b[36muniverse-8cgkAS-0 |\u001b[0m [tigervnc] Initializing built-in extension RENDER\n",
      "\u001b[36muniverse-8cgkAS-0 |\u001b[0m [tigervnc] Initializing built-in extension RANDR\n",
      "\u001b[36muniverse-8cgkAS-0 |\u001b[0m [tigervnc] Initializing built-in extension COMPOSITE\n",
      "\u001b[36muniverse-8cgkAS-0 |\u001b[0m [tigervnc] Initializing built-in extension DAMAGE\n",
      "\u001b[36muniverse-8cgkAS-0 |\u001b[0m [tigervnc] Initializing built-in extension MIT-SCREEN-SAVER\n",
      "\u001b[36muniverse-8cgkAS-0 |\u001b[0m [tigervnc] Initializing built-in extension DOUBLE-BUFFER\n",
      "\u001b[36muniverse-8cgkAS-0 |\u001b[0m [tigervnc] Initializing built-in extension RECORD\n",
      "\u001b[36muniverse-8cgkAS-0 |\u001b[0m [tigervnc] Initializing built-in extension DPMS\n",
      "\u001b[36muniverse-8cgkAS-0 |\u001b[0m [tigervnc] Initializing built-in extension X-Resource\n",
      "\u001b[36muniverse-8cgkAS-0 |\u001b[0m [tigervnc] Initializing built-in extension XVideo\n",
      "\u001b[36muniverse-8cgkAS-0 |\u001b[0m [tigervnc] Initializing built-in extension XVideo-MotionCompensation\n",
      "\u001b[36muniverse-8cgkAS-0 |\u001b[0m [tigervnc] Initializing built-in extension GLX\n",
      "\u001b[36muniverse-8cgkAS-0 |\u001b[0m [tigervnc] \n",
      "\u001b[36muniverse-8cgkAS-0 |\u001b[0m [tigervnc] Wed Jun 28 07:33:16 2017\n",
      "\u001b[36muniverse-8cgkAS-0 |\u001b[0m [tigervnc]  vncext:      VNC extension running!\n",
      "\u001b[36muniverse-8cgkAS-0 |\u001b[0m [tigervnc]  vncext:      Listening for VNC connections on all interface(s), port 5900\n",
      "\u001b[36muniverse-8cgkAS-0 |\u001b[0m [tigervnc]  vncext:      created VNC server for screen 0\n",
      "\u001b[36muniverse-8cgkAS-0 |\u001b[0m [tigervnc] [dix] Could not init font path element /usr/share/fonts/X11/Type1/, removing from list!\n",
      "\u001b[36muniverse-8cgkAS-0 |\u001b[0m [tigervnc] [dix] Could not init font path element /usr/share/fonts/X11/75dpi/, removing from list!\n",
      "\u001b[36muniverse-8cgkAS-0 |\u001b[0m [tigervnc] [dix] Could not init font path element /usr/share/fonts/X11/100dpi/, removing from list!\n",
      "\u001b[36muniverse-8cgkAS-0 |\u001b[0m [Wed Jun 28 07:33:16 UTC 2017] [/usr/local/bin/sudoable-env-setup] Disabling outbound network traffic for none\n",
      "\u001b[36muniverse-8cgkAS-0 |\u001b[0m [init] [2017-06-28 07:33:16,183] Launching system_diagnostics_logger.py, recorder_logdir=/tmp/demo\n",
      "\u001b[36muniverse-8cgkAS-0 |\u001b[0m [init] [2017-06-28 07:33:16,196] Launching reward_recorder.py, recorder_logdir=/tmp/demo\n",
      "\u001b[36muniverse-8cgkAS-0 |\u001b[0m [init] [2017-06-28 07:33:16,208] Launching vnc_recorder.py, recorder_logdir=/tmp/demo\n",
      "\u001b[36muniverse-8cgkAS-0 |\u001b[0m [init] [2017-06-28 07:33:16,242] PID 53 launched with command ['sudo', '-H', '-u', 'nobody', 'DISPLAY=:0', 'DBUS_SESSION_BUS_ADDRESS=/dev/null', '/app/universe-envs/controlplane/bin/controlplane.py', '--rewarder-port=15901']\n",
      "\u001b[36muniverse-8cgkAS-0 |\u001b[0m [init] [2017-06-28 07:33:16,385] init detected end of child process 57 with exit code 0, not killed by signal\n",
      "\u001b[36muniverse-8cgkAS-0 |\u001b[0m WebSocket server settings:\n",
      "\u001b[36muniverse-8cgkAS-0 |\u001b[0m   - Listen on :5898\n",
      "\u001b[36muniverse-8cgkAS-0 |\u001b[0m   - Flash security policy server\n",
      "\u001b[36muniverse-8cgkAS-0 |\u001b[0m   - No SSL/TLS support (no cert file)\n",
      "\u001b[36muniverse-8cgkAS-0 |\u001b[0m   - proxying from :5898 to localhost:5900\n"
     ]
    },
    {
     "name": "stderr",
     "output_type": "stream",
     "text": [
      "[2017-06-28 03:33:16,995] Remote closed: address=localhost:5901\n",
      "[2017-06-28 03:33:17,001] Remote closed: address=localhost:15901\n",
      "[2017-06-28 03:33:17,007] At least one sockets was closed by the remote. Sleeping 1s...\n"
     ]
    },
    {
     "name": "stdout",
     "output_type": "stream",
     "text": [
      "\u001b[36muniverse-8cgkAS-0 |\u001b[0m [nginx] 2017/06/28 07:33:16 [error] 62#62: *1 connect() failed (111: Connection refused) while connecting to upstream, client: 172.17.0.1, server: , request: \"GET / HTTP/1.1\", upstream: \"http://127.0.0.1:15901/\", host: \"127.0.0.1:10003\"\n",
      "\u001b[36muniverse-8cgkAS-0 |\u001b[0m [tigervnc]  Connections: accepted: 172.17.0.1::36440\n",
      "\u001b[36muniverse-8cgkAS-0 |\u001b[0m [init] [2017-06-28 07:33:16,981] init detected end of child process 15 with exit code 0, not killed by signal\n",
      "\u001b[36muniverse-8cgkAS-0 |\u001b[0m [nginx] 172.17.0.1 - openai [28/Jun/2017:07:33:16 +0000] \"GET / HTTP/1.1\" 502 182 \"-\" \"-\"\n"
     ]
    },
    {
     "name": "stderr",
     "output_type": "stream",
     "text": [
      "[2017-06-28 03:33:18,009] Using the golang VNC implementation\n",
      "[2017-06-28 03:33:18,011] Using VNCSession arguments: {'subsample_level': 2, 'start_timeout': 7, 'fine_quality_level': 50, 'encoding': 'tight'}. (Customize by running \"env.configure(vnc_kwargs={...})\"\n",
      "[2017-06-28 03:33:18,020] [0] Connecting to environment: vnc://localhost:5901 password=openai. If desired, you can manually connect a VNC viewer, such as TurboVNC. Most environments provide a convenient in-browser VNC client: http://localhost:15901/viewer/?password=openai\n"
     ]
    },
    {
     "name": "stdout",
     "output_type": "stream",
     "text": [
      "\u001b[36muniverse-8cgkAS-0 |\u001b[0m [tigervnc] \n",
      "\u001b[36muniverse-8cgkAS-0 |\u001b[0m [nginx] 2017/06/28 07:33:17 [info] 62#62: *1 client 172.17.0.1 closed keepalive connection\n",
      "\u001b[36muniverse-8cgkAS-0 |\u001b[0m [tigervnc] Wed Jun 28 07:33:17 2017\n",
      "\u001b[36muniverse-8cgkAS-0 |\u001b[0m [tigervnc]  Connections: closed: 172.17.0.1::36440 (Clean disconnection)\n",
      "\u001b[36muniverse-8cgkAS-0 |\u001b[0m [tigervnc]  EncodeManager: Framebuffer updates: 0\n",
      "\u001b[36muniverse-8cgkAS-0 |\u001b[0m [tigervnc]  EncodeManager:   Total: 0 rects, 0 pixels\n",
      "\u001b[36muniverse-8cgkAS-0 |\u001b[0m [tigervnc]  EncodeManager:          0 B (1:-nan ratio)\n",
      "\u001b[36muniverse-8cgkAS-0 |\u001b[0m [tigervnc]  Connections: accepted: 172.17.0.1::36446\n",
      "\u001b[36muniverse-8cgkAS-0 |\u001b[0m [tigervnc]  SConnection: Client needs protocol version 3.8\n",
      "\u001b[36muniverse-8cgkAS-0 |\u001b[0m [tigervnc]  SConnection: Client requests security type VncAuth(2)\n",
      "\u001b[36muniverse-8cgkAS-0 |\u001b[0m [tigervnc]  VNCSConnST:  Server default pixel format depth 24 (32bpp) little-endian rgb888\n",
      "\u001b[36muniverse-8cgkAS-0 |\u001b[0m [nginx] 2017/06/28 07:33:17 [error] 63#63: *3 connect() failed (111: Connection refused) while connecting to upstream, client: 172.17.0.1, server: , request: \"GET / HTTP/1.1\", upstream: \"http://127.0.0.1:15901/\", host: \"localhost:15901\"\n"
     ]
    },
    {
     "name": "stderr",
     "output_type": "stream",
     "text": [
      "[2017-06-28 03:33:18,122] [0:localhost:5901] Waiting on rewarder: failed to complete WebSocket handshake. Retry in 1s (slept 0s/7s): connection was closed uncleanly (WebSocket connection upgrade failed (502 - BadGateway))\n"
     ]
    },
    {
     "name": "stdout",
     "output_type": "stream",
     "text": [
      "\u001b[36muniverse-8cgkAS-0 |\u001b[0m [nginx] 172.17.0.1 - openai [28/Jun/2017:07:33:17 +0000] \"GET / HTTP/1.1\" 502 182 \"-\" \"AutobahnPython/17.6.2\"\n",
      "\u001b[36muniverse-8cgkAS-0 |\u001b[0m [nginx] 2017/06/28 07:33:17 [info] 63#63: *3 client 172.17.0.1 closed keepalive connection\n",
      "\u001b[36muniverse-8cgkAS-0 |\u001b[0m [tigervnc]  VNCSConnST:  Client pixel format depth 24 (32bpp) little-endian bgr888\n",
      "\u001b[36muniverse-8cgkAS-0 |\u001b[0m [reward_recorder] [2017-06-28 07:33:18,165] Listening on 0.0.0.0:15898\n",
      "\u001b[36muniverse-8cgkAS-0 |\u001b[0m [vnc_recorder] [2017-06-28 07:33:18,231] Listening on 0.0.0.0:5899\n",
      "\u001b[36muniverse-8cgkAS-0 |\u001b[0m [2017-06-28 07:33:18,336] [INFO:root] Starting play_controlplane.py with the following: command=['/app/universe-envs/controlplane/bin/controlplane.py', '--rewarder-port=15901'] args=Namespace(bot_demonstration=False, demonstration=False, env_id=None, idle_timeout=None, integrator_mode=False, no_env=False, no_rewarder=False, no_scorer=False, no_vexpect=False, remotes='vnc://127.0.0.1:5900', rewarder_fps=60, rewarder_port=15901, verbosity=0) env=environ({'SUDO_GID': '0', 'SUDO_UID': '0', 'PATH': '/usr/local/sbin:/usr/local/bin:/usr/sbin:/usr/bin:/sbin:/bin:/snap/bin', 'DISPLAY': ':0', 'USERNAME': 'nobody', 'TERM': 'xterm', 'SUDO_USER': 'root', 'MAIL': '/var/mail/nobody', 'LOGNAME': 'nobody', 'HOSTNAME': '933de44fc82e', 'SHELL': '/usr/sbin/nologin', 'SUDO_COMMAND': '/app/universe-envs/controlplane/bin/controlplane.py --rewarder-port=15901', 'DBUS_SESSION_BUS_ADDRESS': '/dev/null', 'USER': 'nobody', 'HOME': '/nonexistent'})\n",
      "\u001b[36muniverse-8cgkAS-0 |\u001b[0m [2017-06-28 07:33:18,337] [INFO:root] [EnvStatus] Changing env_state: None (env_id=None) -> None (env_id=None) (episode_id: 0->0, fps=60)\n",
      "\u001b[36muniverse-8cgkAS-0 |\u001b[0m [2017-06-28 07:33:18,337] [INFO:universe.rewarder.remote] Starting Rewarder on port=15901\n",
      "\u001b[36muniverse-8cgkAS-0 |\u001b[0m [2017-06-28 07:33:18,342] [INFO:universe.extra.universe.wrappers.logger] Running VNC environments with Logger set to print_frequency=5. To change this, pass \"print_frequency=k\" or \"print_frequency=None\" to \"env.configure\".\n",
      "\u001b[36muniverse-8cgkAS-0 |\u001b[0m [2017-06-28 07:33:18,344] [INFO:universe.remotes.hardcoded_addresses] No rewarder addresses were provided, so this env cannot connect to the remote's rewarder channel, and cannot send control messages (e.g. reset)\n",
      "\u001b[36muniverse-8cgkAS-0 |\u001b[0m [2017-06-28 07:33:18,344] [INFO:universe.envs.vnc_env] Using the golang VNC implementation\n",
      "\u001b[36muniverse-8cgkAS-0 |\u001b[0m [2017-06-28 07:33:18,344] [INFO:universe.envs.vnc_env] Using VNCSession arguments: {'encoding': 'zrle', 'start_timeout': 7, 'fine_quality_level': 50, 'compress_level': 9, 'subsample_level': 2}. (Customize by running \"env.configure(vnc_kwargs={...})\"\n",
      "\u001b[36muniverse-8cgkAS-0 |\u001b[0m [2017-06-28 07:33:18,357] [INFO:universe.envs.vnc_env] Printed stats will ignore clock skew. (This usually makes sense only when the environment and agent are on the same machine.)\n",
      "\u001b[36muniverse-8cgkAS-0 |\u001b[0m [2017-06-28 07:33:18,371] [INFO:universe.envs.vnc_env] [0] Connecting to environment: vnc://127.0.0.1:5900 password=openai. If desired, you can manually connect a VNC viewer, such as TurboVNC. Most environments provide a convenient in-browser VNC client: http://None/viewer/?password=openai\n",
      "\u001b[36muniverse-8cgkAS-0 |\u001b[0m [2017-06-28 07:33:18,371] [INFO:universe.extra.universe.envs.vnc_env] [0] Connecting to environment details: vnc_address=127.0.0.1:5900 vnc_password=openai rewarder_address=None rewarder_password=openai\n",
      "\u001b[36muniverse-8cgkAS-0 |\u001b[0m 2017/06/28 07:33:18 I0628 07:33:18.373252 56 gymvnc.go:417] [0:127.0.0.1:5900] opening connection to VNC server\n",
      "\u001b[36muniverse-8cgkAS-0 |\u001b[0m [tigervnc] \n",
      "\u001b[36muniverse-8cgkAS-0 |\u001b[0m [tigervnc] Wed Jun 28 07:33:18 2017\n",
      "\u001b[36muniverse-8cgkAS-0 |\u001b[0m [tigervnc]  Connections: accepted: 127.0.0.1::41674\n",
      "\u001b[36muniverse-8cgkAS-0 |\u001b[0m [tigervnc]  SConnection: Client needs protocol version 3.8\n",
      "\u001b[36muniverse-8cgkAS-0 |\u001b[0m [tigervnc]  SConnection: Client requests security type VncAuth(2)\n",
      "\u001b[36muniverse-8cgkAS-0 |\u001b[0m [tigervnc]  VNCSConnST:  Server default pixel format depth 24 (32bpp) little-endian rgb888\n",
      "\u001b[36muniverse-8cgkAS-0 |\u001b[0m 2017/06/28 07:33:18 I0628 07:33:18.390195 56 gymvnc.go:550] [0:127.0.0.1:5900] connection established\n",
      "\u001b[36muniverse-8cgkAS-0 |\u001b[0m [tigervnc]  VNCSConnST:  Client pixel format depth 24 (32bpp) little-endian bgr888\n",
      "\u001b[36muniverse-8cgkAS-0 |\u001b[0m [2017-06-28 07:33:18,395] [INFO:root] [EnvStatus] Changing env_state: None (env_id=None) -> resetting (env_id=None) (episode_id: 0->1, fps=60)\n",
      "\u001b[36muniverse-8cgkAS-0 |\u001b[0m [2017-06-28 07:33:18,396] [INFO:root] [MainThread] Env state: env_id=None episode_id=1\n",
      "\u001b[36muniverse-8cgkAS-0 |\u001b[0m [2017-06-28 07:33:18,398] [INFO:root] [MainThread] Writing None to /tmp/demo/env_id.txt\n",
      "\u001b[36muniverse-8cgkAS-0 |\u001b[0m [Wed Jun 28 07:33:18 UTC 2017] [/usr/local/bin/sudoable-env-setup] Disabling outbound network traffic for none\n",
      "\u001b[36muniverse-8cgkAS-0 |\u001b[0m [2017-06-28 07:33:18,436] [INFO:gym_flashgames.launcher] [MainThread] Launching new Chrome process (attempt 0/10)\n",
      "\u001b[36muniverse-8cgkAS-0 |\u001b[0m [2017-06-28 07:33:18,437] [INFO:root] Replacing selenium_wrapper_server since we currently do it at every episode boundary\n",
      "\u001b[36muniverse-8cgkAS-0 |\u001b[0m [2017-06-28 07:33:18,581] [selenium_wrapper_server] Calling webdriver.Chrome()\n",
      "\u001b[36muniverse-8cgkAS-0 |\u001b[0m [2017-06-28 07:33:18,989] [INFO:universe.rewarder.remote] Client connecting: peer=tcp4:127.0.0.1:52106 observer=False\n",
      "\u001b[36muniverse-8cgkAS-0 |\u001b[0m [2017-06-28 07:33:18,991] [INFO:universe.rewarder.remote] WebSocket connection established\n",
      "\u001b[36muniverse-8cgkAS-0 |\u001b[0m [nginx] 2017/06/28 07:33:20 [info] 63#63: *7 client sent invalid request while reading client request line, client: 127.0.0.1, server: , request: \"CONNECT www.google.com:443 HTTP/1.1\"\n",
      "\u001b[36muniverse-8cgkAS-0 |\u001b[0m [nginx] 2017/06/28 07:33:20 [info] 63#63: *8 client sent invalid request while reading client request line, client: 127.0.0.1, server: , request: \"CONNECT www.google.com:443 HTTP/1.1\"\n",
      "\u001b[36muniverse-8cgkAS-0 |\u001b[0m [2017-06-28 07:33:20,217] [selenium_wrapper_server] Call to webdriver.Chrome() completed: 1.64s\n",
      "\u001b[36muniverse-8cgkAS-0 |\u001b[0m [2017-06-28 07:33:20,218] [INFO:gym_flashgames.launcher] [MainThread] Navigating browser to url=http://localhost\n",
      "\u001b[36muniverse-8cgkAS-0 |\u001b[0m [nginx] 2017/06/28 07:33:20 [info] 63#63: *9 client sent invalid request while reading client request line, client: 127.0.0.1, server: , request: \"CONNECT www.google.com:443 HTTP/1.1\"\n",
      "\u001b[36muniverse-8cgkAS-0 |\u001b[0m [2017-06-28 07:33:21,141] [INFO:root] [EnvStatus] Changing env_state: resetting (env_id=None) -> running (env_id=None) (episode_id: 1->1, fps=60)\n",
      "\u001b[36muniverse-8cgkAS-0 |\u001b[0m [2017-06-28 07:33:21,149] [INFO:root] [MainThread] Writing None to /tmp/demo/env_id.txt\n",
      "\u001b[36muniverse-8cgkAS-0 |\u001b[0m Manhole[1498635201.1594]: Patched <built-in function fork> and <built-in function fork>.\n",
      "\u001b[36muniverse-8cgkAS-0 |\u001b[0m Manhole[1498635201.1598]: Manhole UDS path: /tmp/manhole-56\n",
      "\u001b[36muniverse-8cgkAS-0 |\u001b[0m Manhole[1498635201.1599]: Waiting for new connection (in pid:56) ...\n",
      "\u001b[36muniverse-8cgkAS-0 |\u001b[0m [2017-06-28 07:33:23,378] [INFO:universe.wrappers.logger] Stats for the past 5.00s: vnc_updates_ps=3.6 n=1 reaction_time=None observation_lag=None action_lag=None reward_ps=0.0 reward_total=0.0 vnc_bytes_ps[total]=278863.2 vnc_pixels_ps[total]=446895.3 reward_lag=None rewarder_message_lag=None fps=26.78\n",
      "\u001b[36muniverse-8cgkAS-0 |\u001b[0m [2017-06-28 07:33:25,181] [INFO:root] [Rewarder] Rewarder fell behind by 0.5228168964385986s from target; losing 31 frames\n",
      "\u001b[36muniverse-8cgkAS-0 |\u001b[0m [2017-06-28 07:33:26,167] [INFO:universe.pyprofile] [pyprofile] period=5.02s timers={\"rewarder.sleep\": {\"mean\": \"14.86ms\", \"std\": \"1.12ms\", \"calls\": 267}, \"rewarder.frame\": {\"mean\": \"21.75ms\", \"std\": \"45.62ms\", \"calls\": 269}, \"rewarder.compute_reward\": {\"mean\": \"609.03us\", \"std\": \"763.51us\", \"calls\": 270}, \"vnc_env.VNCEnv.vnc_session.step\": {\"mean\": \"216.79us\", \"std\": \"451.40us\", \"calls\": 270}, \"rewarder.sleep.missed\": {\"mean\": \"264.57ms\", \"std\": \"365.21ms\", \"calls\": 2}} counters={\"reward.vnc.updates.n\": {\"std\": 0.6359724573774802, \"mean\": 0.06666666666666671, \"calls\": 270}} gauges={} (export_time=193.60us)\n",
      "\u001b[36muniverse-8cgkAS-0 |\u001b[0m [2017-06-28 07:33:26,168] [INFO:universe.rewarder.remote] [Rewarder] Over past 5.02s, sent 1 reward messages to agent: reward=0 reward_min=0 reward_max=0 done=False info={'rewarder.vnc.updates.bytes': 0, 'rewarder.vnc.updates.n': 0, 'rewarder.vnc.updates.pixels': 0, 'rewarder.profile': '<868 bytes>'}\n",
      "\u001b[36muniverse-8cgkAS-0 |\u001b[0m [2017-06-28 07:33:28,386] [INFO:universe.wrappers.logger] Stats for the past 5.00s: vnc_updates_ps=0.0 n=1 reaction_time=None observation_lag=None action_lag=None reward_ps=0.0 reward_total=0.0 vnc_bytes_ps[total]=0.0 vnc_pixels_ps[total]=0.0 reward_lag=None rewarder_message_lag=None fps=53.59\n"
     ]
    }
   ],
   "source": [
    "# The call to configure() connects the client to a remote environment server. \n",
    "# When called with configure(remotes=1), Universe will automatically create \n",
    "# a Docker image running locally on your computer. \n",
    "# The local client connects to the remote using VNC.\n",
    "env.configure(remotes=1)"
   ]
  },
  {
   "cell_type": "code",
   "execution_count": 4,
   "metadata": {
    "collapsed": false
   },
   "outputs": [
    {
     "name": "stdout",
     "output_type": "stream",
     "text": [
      "\u001b[36muniverse-8cgkAS-0 |\u001b[0m [2017-06-28 07:33:31,181] [INFO:universe.pyprofile] [pyprofile] period=5.01s timers={\"rewarder.sleep\": {\"mean\": \"14.71ms\", \"std\": \"1.46ms\", \"calls\": 297}, \"rewarder.frame\": {\"mean\": \"17.87ms\", \"std\": \"1.54ms\", \"calls\": 300}, \"rewarder.compute_reward\": {\"mean\": \"802.73us\", \"std\": \"1.63ms\", \"calls\": 300}, \"vnc_env.VNCEnv.vnc_session.step\": {\"mean\": \"269.41us\", \"std\": \"646.41us\", \"calls\": 300}, \"rewarder.sleep.missed\": {\"mean\": \"4.98ms\", \"std\": \"3.65ms\", \"calls\": 3}} counters={\"agent_conn.reward\": {\"std\": 0, \"mean\": 0.0, \"calls\": 1}, \"reward.vnc.updates.n\": {\"std\": 0.0, \"mean\": 0.0, \"calls\": 300}} gauges={} (export_time=187.40us)\n",
      "\u001b[36muniverse-8cgkAS-0 |\u001b[0m [2017-06-28 07:33:31,182] [INFO:universe.rewarder.remote] [Rewarder] Over past 5.01s, sent 1 reward messages to agent: reward=0 reward_min=0 reward_max=0 done=False info={'rewarder.vnc.updates.bytes': 0, 'rewarder.vnc.updates.n': 0, 'rewarder.vnc.updates.pixels': 0, 'rewarder.profile': '<921 bytes>'}\n",
      "\u001b[36muniverse-8cgkAS-0 |\u001b[0m [nginx] 2017/06/28 07:33:33 [info] 63#63: *12 client closed connection while waiting for request, client: 172.17.0.1, server: 0.0.0.0:15900\n",
      "\u001b[36muniverse-8cgkAS-0 |\u001b[0m [nginx] 2017/06/28 07:33:33 [info] 63#63: *13 client closed connection while waiting for request, client: 172.17.0.1, server: 0.0.0.0:15900\n",
      "\u001b[36muniverse-8cgkAS-0 |\u001b[0m [nginx] 2017/06/28 07:33:33 [info] 63#63: *14 client closed connection while waiting for request, client: 172.17.0.1, server: 0.0.0.0:15900\n",
      "\u001b[36muniverse-8cgkAS-0 |\u001b[0m [nginx] 2017/06/28 07:33:33 [info] 63#63: *15 client closed connection while waiting for request, client: 172.17.0.1, server: 0.0.0.0:15900\n",
      "\u001b[36muniverse-8cgkAS-0 |\u001b[0m [nginx] 2017/06/28 07:33:33 [info] 63#63: *16 client closed connection while waiting for request, client: 172.17.0.1, server: 0.0.0.0:15900\n",
      "\u001b[36muniverse-8cgkAS-0 |\u001b[0m [nginx] 2017/06/28 07:33:33 [info] 63#63: *17 client closed connection while waiting for request, client: 172.17.0.1, server: 0.0.0.0:15900\n",
      "\u001b[36muniverse-8cgkAS-0 |\u001b[0m [nginx] 2017/06/28 07:33:33 [info] 63#63: *18 client closed connection while waiting for request, client: 172.17.0.1, server: 0.0.0.0:15900\n",
      "\u001b[36muniverse-8cgkAS-0 |\u001b[0m [nginx] 2017/06/28 07:33:33 [info] 63#63: *19 client closed connection while waiting for request, client: 172.17.0.1, server: 0.0.0.0:15900\n",
      "\u001b[36muniverse-8cgkAS-0 |\u001b[0m [nginx] 2017/06/28 07:33:33 [info] 63#63: *20 client closed connection while waiting for request, client: 172.17.0.1, server: 0.0.0.0:15900\n",
      "\u001b[36muniverse-8cgkAS-0 |\u001b[0m [2017-06-28 07:33:33,346] [INFO:universe.rewarder.remote] CONNECTION STATUS: Marking connection as active: observer=False peer=tcp4:127.0.0.1:52106 total_conns=1\n",
      "\u001b[36muniverse-8cgkAS-0 |\u001b[0m [nginx] 2017/06/28 07:33:33 [info] 63#63: *21 client closed connection while waiting for request, client: 172.17.0.1, server: 0.0.0.0:15900\n"
     ]
    },
    {
     "name": "stderr",
     "output_type": "stream",
     "text": [
      "[2017-06-28 03:33:33,658] [0:localhost:5901] Sending reset for env_id=flashgames.DuskDrive-v0 fps=60 episode_id=0\n"
     ]
    },
    {
     "name": "stdout",
     "output_type": "stream",
     "text": [
      "\u001b[36muniverse-8cgkAS-0 |\u001b[0m [2017-06-28 07:33:33,399] [INFO:universe.wrappers.logger] Stats for the past 5.01s: vnc_updates_ps=0.0 n=1 reaction_time=None observation_lag=None action_lag=None reward_ps=0.0 reward_total=0.0 vnc_bytes_ps[total]=0.0 vnc_pixels_ps[total]=0.0 reward_lag=None rewarder_message_lag=None fps=59.87\n",
      "\u001b[36muniverse-8cgkAS-0 |\u001b[0m [2017-06-28 07:33:33,405] [INFO:universe.rewarder.remote] Received reset message: {'headers': {'message_id': 10, 'sent_at': 1498635213.659944, 'episode_id': '0'}, 'body': {'seed': None, 'env_id': 'flashgames.DuskDrive-v0', 'fps': 60}, 'method': 'v0.env.reset'}\n",
      "\u001b[36muniverse-8cgkAS-0 |\u001b[0m [2017-06-28 07:33:33,414] [INFO:root] [EnvStatus] Changing env_state: running (env_id=None) -> resetting (env_id=flashgames.DuskDrive-v0) (episode_id: 1->2, fps=60)\n",
      "\u001b[36muniverse-8cgkAS-0 |\u001b[0m [2017-06-28 07:33:33,414] [ERROR:root] Closing server (via subprocess.close()) and all chromes (via pkill chromedriver || :; pkill chrome || :)\n",
      "\u001b[36muniverse-8cgkAS-0 |\u001b[0m [2017-06-28 07:33:33,421] [INFO:root] [Rewarder] Blocking until env finishes resetting\n",
      "\u001b[36muniverse-8cgkAS-0 |\u001b[0m [init] [2017-06-28 07:33:33,440] init detected end of child process 106 with exit code 0, killed by SIGTERM: 15\n",
      "\u001b[36muniverse-8cgkAS-0 |\u001b[0m [init] [2017-06-28 07:33:33,479] init detected end of child process 121 with exit code 0, not killed by signal\n",
      "\u001b[36muniverse-8cgkAS-0 |\u001b[0m [2017-06-28 07:33:33,485] [INFO:root] [EnvController] RESET CAUSE: changing out environments due to v0.env.reset (with episode_id=0): flashgames.DuskDrive-v0 -> flashgames.DuskDrive-v0 (new episode_id=2 fps=60)\n",
      "\u001b[36muniverse-8cgkAS-0 |\u001b[0m [2017-06-28 07:33:33,486] [INFO:root] [EnvController] Env state: env_id=flashgames.DuskDrive-v0 episode_id=2\n",
      "\u001b[36muniverse-8cgkAS-0 |\u001b[0m [2017-06-28 07:33:33,486] [INFO:root] [EnvController] Writing flashgames.DuskDrive-v0 to /tmp/demo/env_id.txt\n",
      "\u001b[36muniverse-8cgkAS-0 |\u001b[0m [init] [2017-06-28 07:33:33,487] init detected end of child process 328 with exit code 0, killed by SIGTERM: 15\n",
      "\u001b[36muniverse-8cgkAS-0 |\u001b[0m [Wed Jun 28 07:33:33 UTC 2017] [/usr/local/bin/sudoable-env-setup] Allowing outbound network traffic to non-private IPs for git-lfs. (Going to fetch files via git lfs.)\n",
      "\u001b[36muniverse-8cgkAS-0 |\u001b[0m [init] [2017-06-28 07:33:33,567] init detected end of child process 342 with exit code 0, killed by SIGTERM: 15\n",
      "\u001b[36muniverse-8cgkAS-0 |\u001b[0m [nginx] 2017/06/28 07:33:33 [info] 63#63: *11 client closed connection while waiting for request, client: 127.0.0.1, server: 0.0.0.0:80\n",
      "\u001b[36muniverse-8cgkAS-0 |\u001b[0m [nginx] 2017/06/28 07:33:33 [info] 63#63: *10 client 127.0.0.1 closed keepalive connection\n",
      "\u001b[36muniverse-8cgkAS-0 |\u001b[0m [unpack-lfs] [2017-06-28 07:33:33,736] Unpacking files for flashgames.DuskDrive-v0\n",
      "\u001b[36muniverse-8cgkAS-0 |\u001b[0m [init] [2017-06-28 07:33:33,746] init detected end of child process 109 with exit code 0, not killed by signal\n",
      "\u001b[36muniverse-8cgkAS-0 |\u001b[0m [init] [2017-06-28 07:33:33,746] init detected end of child process 117 with exit code 0, not killed by signal\n",
      "\u001b[36muniverse-8cgkAS-0 |\u001b[0m [init] [2017-06-28 07:33:33,747] init detected end of child process 118 with exit code 0, not killed by signal\n",
      "\u001b[36muniverse-8cgkAS-0 |\u001b[0m [init] [2017-06-28 07:33:33,747] init detected end of child process 120 with exit code 0, killed by SIGTERM: 15\n",
      "\u001b[36muniverse-8cgkAS-0 |\u001b[0m [unpack-lfs] [2017-06-28 07:33:33,845] Merged 5 files from /tmp/flashgames.DuskDrive-v0/public -> /app/universe-envs/flashgames/build/public/flashgames.DuskDrive-v0\n",
      "\u001b[36muniverse-8cgkAS-0 |\u001b[0m [unpack-lfs] [2017-06-28 07:33:33,850] Merged 20 files from /tmp/flashgames.DuskDrive-v0/private -> /app/universe-envs/flashgames/build/private/flashgames.DuskDrive-v0\n",
      "\u001b[36muniverse-8cgkAS-0 |\u001b[0m [unpack-lfs] [2017-06-28 07:33:33,852] Completed unpack for flashgames.DuskDrive-v0 in 0.116s\n",
      "\u001b[36muniverse-8cgkAS-0 |\u001b[0m [Wed Jun 28 07:33:33 UTC 2017] [/usr/local/bin/sudoable-env-setup] [debug] unpack-lfs completed with status code: 0. Created completion file: /usr/local/openai/git-lfs/flashgames.DuskDrive-v0\n",
      "\u001b[36muniverse-8cgkAS-0 |\u001b[0m [Wed Jun 28 07:33:33 UTC 2017] [/usr/local/bin/sudoable-env-setup] Disabling outbound network traffic for flashgames.DuskDrive-v0\n",
      "\u001b[36muniverse-8cgkAS-0 |\u001b[0m [2017-06-28 07:33:33,997] [INFO:gym_flashgames.launcher] [EnvController] Launching new Chrome process (attempt 0/10)\n",
      "\u001b[36muniverse-8cgkAS-0 |\u001b[0m [2017-06-28 07:33:33,999] [INFO:root] Replacing selenium_wrapper_server since we currently do it at every episode boundary\n",
      "\u001b[36muniverse-8cgkAS-0 |\u001b[0m [2017-06-28 07:33:34,177] [selenium_wrapper_server] Calling webdriver.Chrome()\n",
      "\u001b[36muniverse-8cgkAS-0 |\u001b[0m [nginx] 2017/06/28 07:33:35 [info] 63#63: *22 client sent invalid request while reading client request line, client: 127.0.0.1, server: , request: \"CONNECT www.google.com:443 HTTP/1.1\"\n",
      "\u001b[36muniverse-8cgkAS-0 |\u001b[0m [nginx] 2017/06/28 07:33:35 [info] 63#63: *23 client sent invalid request while reading client request line, client: 127.0.0.1, server: , request: \"CONNECT www.google.com:443 HTTP/1.1\"\n",
      "\u001b[36muniverse-8cgkAS-0 |\u001b[0m [nginx] 2017/06/28 07:33:35 [info] 63#63: *24 client sent invalid request while reading client request line, client: 127.0.0.1, server: , request: \"CONNECT www.google.com:443 HTTP/1.1\"\n",
      "\u001b[36muniverse-8cgkAS-0 |\u001b[0m [nginx] 2017/06/28 07:33:36 [info] 63#63: *25 client sent invalid request while reading client request line, client: 127.0.0.1, server: , request: \"CONNECT www.google.com:443 HTTP/1.1\"\n",
      "\u001b[36muniverse-8cgkAS-0 |\u001b[0m [2017-06-28 07:33:36,599] [selenium_wrapper_server] Call to webdriver.Chrome() completed: 2.42s\n",
      "\u001b[36muniverse-8cgkAS-0 |\u001b[0m [2017-06-28 07:33:36,603] [INFO:gym_flashgames.launcher] [EnvController] Navigating browser to url=http://localhost/flashgames.DuskDrive-v0\n",
      "\u001b[36muniverse-8cgkAS-0 |\u001b[0m [2017-06-28 07:33:36,721] [INFO:root] [EnvController] Running command: /app/universe-envs/controlplane/bin/play_vexpect -e flashgames.DuskDrive-v0 -r vnc://127.0.0.1:5900 -d\n",
      "\u001b[36muniverse-8cgkAS-0 |\u001b[0m [2017-06-28 07:33:38,403] [play_vexpect] No rewarder addresses were provided, so this env cannot connect to the remote's rewarder channel, and cannot send control messages (e.g. reset)\n",
      "\u001b[36muniverse-8cgkAS-0 |\u001b[0m [2017-06-28 07:33:38,404] [play_vexpect] Using the golang VNC implementation\n",
      "\u001b[36muniverse-8cgkAS-0 |\u001b[0m [2017-06-28 07:33:38,405] [play_vexpect] Using VNCSession arguments: {'compress_level': 0, 'encoding': 'zrle', 'subsample_level': 2, 'fine_quality_level': 50, 'start_timeout': 7}. (Customize by running \"env.configure(vnc_kwargs={...})\"\n",
      "\u001b[36muniverse-8cgkAS-0 |\u001b[0m [2017-06-28 07:33:38,407] [play_vexpect] Printed stats will ignore clock skew. (This usually makes sense only when the environment and agent are on the same machine.)\n",
      "\u001b[36muniverse-8cgkAS-0 |\u001b[0m [2017-06-28 07:33:38,415] [play_vexpect] [0] Connecting to environment: vnc://127.0.0.1:5900 password=openai. If desired, you can manually connect a VNC viewer, such as TurboVNC. Most environments provide a convenient in-browser VNC client: http://None/viewer/?password=openai\n",
      "\u001b[36muniverse-8cgkAS-0 |\u001b[0m [2017-06-28 07:33:38,415] [play_vexpect] [0] Connecting to environment details: vnc_address=127.0.0.1:5900 vnc_password=openai rewarder_address=None rewarder_password=openai\n",
      "\u001b[36muniverse-8cgkAS-0 |\u001b[0m 2017/06/28 07:33:38 I0628 07:33:38.416163 648 gymvnc.go:417] [0:127.0.0.1:5900] opening connection to VNC server\n",
      "\u001b[36muniverse-8cgkAS-0 |\u001b[0m [tigervnc] \n",
      "\u001b[36muniverse-8cgkAS-0 |\u001b[0m [tigervnc] Wed Jun 28 07:33:38 2017\n",
      "\u001b[36muniverse-8cgkAS-0 |\u001b[0m [tigervnc]  Connections: accepted: 127.0.0.1::41898\n",
      "\u001b[36muniverse-8cgkAS-0 |\u001b[0m [tigervnc]  SConnection: Client needs protocol version 3.8\n",
      "\u001b[36muniverse-8cgkAS-0 |\u001b[0m [tigervnc]  SConnection: Client requests security type VncAuth(2)\n",
      "\u001b[36muniverse-8cgkAS-0 |\u001b[0m [tigervnc]  VNCSConnST:  Server default pixel format depth 24 (32bpp) little-endian rgb888\n",
      "\u001b[36muniverse-8cgkAS-0 |\u001b[0m 2017/06/28 07:33:38 I0628 07:33:38.422441 648 gymvnc.go:550] [0:127.0.0.1:5900] connection established\n",
      "\u001b[36muniverse-8cgkAS-0 |\u001b[0m [tigervnc]  VNCSConnST:  Client pixel format depth 24 (32bpp) little-endian bgr888\n"
     ]
    }
   ],
   "source": [
    "# Asynchronously connect to the VNC server before returning.\n",
    "# the initial observations from reset will be None to indicate that there is not yet a valid observation.\n",
    "observation_n = env.reset()"
   ]
  },
  {
   "cell_type": "code",
   "execution_count": null,
   "metadata": {
    "collapsed": false
   },
   "outputs": [],
   "source": [
    "# Running the infinite loop to run the agent through the environment.\n",
    "while True:\n",
    "  action_n = [[('KeyEvent', 'ArrowUp', True)] for ob in observation_n]  # your agent here\n",
    "  observation_n, reward_n, done_n, info = env.step(action_n)\n",
    "  env.render()"
   ]
  }
 ],
 "metadata": {
  "kernelspec": {
   "display_name": "Python 2",
   "language": "python",
   "name": "python2"
  },
  "language_info": {
   "codemirror_mode": {
    "name": "ipython",
    "version": 2
   },
   "file_extension": ".py",
   "mimetype": "text/x-python",
   "name": "python",
   "nbconvert_exporter": "python",
   "pygments_lexer": "ipython2",
   "version": "2.7.13"
  }
 },
 "nbformat": 4,
 "nbformat_minor": 1
}
