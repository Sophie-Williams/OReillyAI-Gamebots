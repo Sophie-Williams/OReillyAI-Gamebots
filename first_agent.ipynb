{
 "cells": [
  {
   "cell_type": "code",
   "execution_count": null,
   "metadata": {
    "collapsed": true
   },
   "outputs": [],
   "source": [
    "# Import dependencies\n",
    "import gym\n",
    "import universe  # register the universe environments"
   ]
  },
  {
   "cell_type": "code",
   "execution_count": null,
   "metadata": {
    "collapsed": false
   },
   "outputs": [],
   "source": [
    "# Next, we create the environment instance. \n",
    "# This is a VNCEnv object.\n",
    "env = gym.make('flashgames.CoasterRacer-v0')"
   ]
  },
  {
   "cell_type": "code",
   "execution_count": null,
   "metadata": {
    "collapsed": false
   },
   "outputs": [],
   "source": [
    "# The call to configure() connects the client to a remote environment server. \n",
    "# When called with configure(remotes=1), Universe will automatically create \n",
    "# a Docker image running locally on your computer. \n",
    "# The local client connects to the remote using VNC.\n",
    "env.configure(remotes=1)"
   ]
  },
  {
   "cell_type": "code",
   "execution_count": null,
   "metadata": {
    "collapsed": false
   },
   "outputs": [],
   "source": [
    "# Asynchronously connect to the VNC server before returning.\n",
    "# the initial observations from reset will be None to indicate that there is not yet a valid observation.\n",
    "observation_n = env.reset()"
   ]
  },
  {
   "cell_type": "code",
   "execution_count": null,
   "metadata": {
    "collapsed": false
   },
   "outputs": [],
   "source": [
    "# Running the infinite loop to run the agent through the environment.\n",
    "while True:\n",
    "  action_n = [[('KeyEvent', 'ArrowUp', True)] for ob in observation_n]  # your agent here\n",
    "  observation_n, reward_n, done_n, info = env.step(action_n)\n",
    "  env.render()"
   ]
  }
 ],
 "metadata": {
  "kernelspec": {
   "display_name": "Python 2",
   "language": "python",
   "name": "python2"
  },
  "language_info": {
   "codemirror_mode": {
    "name": "ipython",
    "version": 2
   },
   "file_extension": ".py",
   "mimetype": "text/x-python",
   "name": "python",
   "nbconvert_exporter": "python",
   "pygments_lexer": "ipython2",
   "version": "2.7.13"
  }
 },
 "nbformat": 4,
 "nbformat_minor": 1
}
