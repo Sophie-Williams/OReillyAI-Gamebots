{
 "cells": [
  {
   "cell_type": "code",
   "execution_count": 1,
   "metadata": {
    "collapsed": true
   },
   "outputs": [],
   "source": [
    "# Import dependencies\n",
    "import gym\n",
    "import universe  # register the universe environments"
   ]
  },
  {
   "cell_type": "code",
   "execution_count": 2,
   "metadata": {
    "collapsed": false
   },
   "outputs": [
    {
     "name": "stderr",
     "output_type": "stream",
     "text": [
      "[2017-06-28 12:50:26,307] Making new env: flashgames.CoasterRacer-v0\n"
     ]
    }
   ],
   "source": [
    "# Next, we create the environment instance. \n",
    "# This is a VNCEnv object.\n",
    "#env = gym.make('flashgames.DuskDrive-v0')\n",
    "env = gym.make('flashgames.CoasterRacer-v0')"
   ]
  },
  {
   "cell_type": "code",
   "execution_count": 3,
   "metadata": {
    "collapsed": false
   },
   "outputs": [
    {
     "name": "stderr",
     "output_type": "stream",
     "text": [
      "[2017-06-28 12:50:27,999] Writing logs to file: /tmp/universe-65729.log\n",
      "[2017-06-28 12:50:28,042] Ports used: [15901, 5901]\n",
      "[2017-06-28 12:50:28,045] [0] Creating container: image=quay.io/openai/universe.flashgames:0.20.28. Run the same thing by hand as: docker run -p 5900:5900 -p 15900:15900 --cap-add SYS_ADMIN --ipc host --privileged quay.io/openai/universe.flashgames:0.20.28\n",
      "[2017-06-28 12:50:29,074] [0] Could not start container: 500 Server Error: Internal Server Error (\"{\"message\":\"driver failed programming external connectivity on endpoint universe-PjIktf-0 (a1ce4e907ad624fc2d9c97e42b8cb8394fdb7ac52c7b65ec366c2f9c554710b3): Error starting userland proxy: Bind for 0.0.0.0:5900 failed: port is already allocated\"}\")\n",
      "[2017-06-28 12:50:29,076] Killing and removing container: id=d37a364b86119e51d40607afa62d0426ca3d2f9f9c95454e68c06c479428ff55\n",
      "[2017-06-28 12:50:30,587] Ports used: [15901, 5901]\n",
      "[2017-06-28 12:50:30,589] [0] Creating container: image=quay.io/openai/universe.flashgames:0.20.28. Run the same thing by hand as: docker run -p 5902:5900 -p 15902:15900 --cap-add SYS_ADMIN --ipc host --privileged quay.io/openai/universe.flashgames:0.20.28\n",
      "[2017-06-28 12:50:31,657] Remote closed: address=localhost:5902\n",
      "[2017-06-28 12:50:31,660] At least one sockets was closed by the remote. Sleeping 1s...\n"
     ]
    },
    {
     "name": "stdout",
     "output_type": "stream",
     "text": [
      "\u001b[36muniverse-PjIktf-0 |\u001b[0m Setting VNC and rewarder password: openai\n",
      "\u001b[36muniverse-PjIktf-0 |\u001b[0m [Wed Jun 28 16:50:31 UTC 2017] Waiting for /tmp/.X11-unix/X0 to be created (try 1/10)\n",
      "\u001b[36muniverse-PjIktf-0 |\u001b[0m [tigervnc] \n",
      "\u001b[36muniverse-PjIktf-0 |\u001b[0m [tigervnc] Xvnc TigerVNC 1.7.0 - built Sep  8 2016 10:39:22\n",
      "\u001b[36muniverse-PjIktf-0 |\u001b[0m [tigervnc] Copyright (C) 1999-2016 TigerVNC Team and many others (see README.txt)\n",
      "\u001b[36muniverse-PjIktf-0 |\u001b[0m [tigervnc] See http://www.tigervnc.org for information on TigerVNC.\n",
      "\u001b[36muniverse-PjIktf-0 |\u001b[0m [tigervnc] Underlying X server release 11400000, The X.Org Foundation\n",
      "\u001b[36muniverse-PjIktf-0 |\u001b[0m [tigervnc] \n",
      "\u001b[36muniverse-PjIktf-0 |\u001b[0m [tigervnc] Initializing built-in extension VNC-EXTENSION\n",
      "\u001b[36muniverse-PjIktf-0 |\u001b[0m [tigervnc] Initializing built-in extension Generic Event Extension\n",
      "\u001b[36muniverse-PjIktf-0 |\u001b[0m [tigervnc] Initializing built-in extension SHAPE\n",
      "\u001b[36muniverse-PjIktf-0 |\u001b[0m [tigervnc] Initializing built-in extension MIT-SHM\n",
      "\u001b[36muniverse-PjIktf-0 |\u001b[0m [tigervnc] Initializing built-in extension XInputExtension\n",
      "\u001b[36muniverse-PjIktf-0 |\u001b[0m [tigervnc] Initializing built-in extension XTEST\n",
      "\u001b[36muniverse-PjIktf-0 |\u001b[0m [tigervnc] Initializing built-in extension BIG-REQUESTS\n",
      "\u001b[36muniverse-PjIktf-0 |\u001b[0m [tigervnc] Initializing built-in extension SYNC\n",
      "\u001b[36muniverse-PjIktf-0 |\u001b[0m [tigervnc] Initializing built-in extension XKEYBOARD\n",
      "\u001b[36muniverse-PjIktf-0 |\u001b[0m [tigervnc] Initializing built-in extension XC-MISC\n",
      "\u001b[36muniverse-PjIktf-0 |\u001b[0m [tigervnc] Initializing built-in extension XINERAMA\n",
      "\u001b[36muniverse-PjIktf-0 |\u001b[0m [tigervnc] Initializing built-in extension XFIXES\n",
      "\u001b[36muniverse-PjIktf-0 |\u001b[0m [tigervnc] Initializing built-in extension RENDER\n",
      "\u001b[36muniverse-PjIktf-0 |\u001b[0m [tigervnc] Initializing built-in extension RANDR\n",
      "\u001b[36muniverse-PjIktf-0 |\u001b[0m [tigervnc] Initializing built-in extension COMPOSITE\n",
      "\u001b[36muniverse-PjIktf-0 |\u001b[0m [tigervnc] Initializing built-in extension DAMAGE\n",
      "\u001b[36muniverse-PjIktf-0 |\u001b[0m [tigervnc] Initializing built-in extension MIT-SCREEN-SAVER\n",
      "\u001b[36muniverse-PjIktf-0 |\u001b[0m [tigervnc] Initializing built-in extension DOUBLE-BUFFER\n",
      "\u001b[36muniverse-PjIktf-0 |\u001b[0m [tigervnc] Initializing built-in extension RECORD\n",
      "\u001b[36muniverse-PjIktf-0 |\u001b[0m [tigervnc] Initializing built-in extension DPMS\n",
      "\u001b[36muniverse-PjIktf-0 |\u001b[0m [tigervnc] Initializing built-in extension X-Resource\n",
      "\u001b[36muniverse-PjIktf-0 |\u001b[0m [tigervnc] Initializing built-in extension XVideo\n",
      "\u001b[36muniverse-PjIktf-0 |\u001b[0m [tigervnc] Initializing built-in extension XVideo-MotionCompensation\n",
      "\u001b[36muniverse-PjIktf-0 |\u001b[0m [tigervnc] Initializing built-in extension GLX\n",
      "\u001b[36muniverse-PjIktf-0 |\u001b[0m [tigervnc] \n",
      "\u001b[36muniverse-PjIktf-0 |\u001b[0m [tigervnc] Wed Jun 28 16:50:32 2017\n",
      "\u001b[36muniverse-PjIktf-0 |\u001b[0m [tigervnc]  vncext:      VNC extension running!\n",
      "\u001b[36muniverse-PjIktf-0 |\u001b[0m [tigervnc]  vncext:      Listening for VNC connections on all interface(s), port 5900\n",
      "\u001b[36muniverse-PjIktf-0 |\u001b[0m [tigervnc]  vncext:      created VNC server for screen 0\n",
      "\u001b[36muniverse-PjIktf-0 |\u001b[0m [Wed Jun 28 16:50:32 UTC 2017] [/usr/local/bin/sudoable-env-setup] Disabling outbound network traffic for none\n",
      "\u001b[36muniverse-PjIktf-0 |\u001b[0m [tigervnc] [dix] Could not init font path element /usr/share/fonts/X11/Type1/, removing from list!\n",
      "\u001b[36muniverse-PjIktf-0 |\u001b[0m [tigervnc] [dix] Could not init font path element /usr/share/fonts/X11/75dpi/, removing from list!\n",
      "\u001b[36muniverse-PjIktf-0 |\u001b[0m [tigervnc] [dix] Could not init font path element /usr/share/fonts/X11/100dpi/, removing from list!\n",
      "\u001b[36muniverse-PjIktf-0 |\u001b[0m [init] [2017-06-28 16:50:32,208] Launching system_diagnostics_logger.py, recorder_logdir=/tmp/demo\n",
      "\u001b[36muniverse-PjIktf-0 |\u001b[0m [init] [2017-06-28 16:50:32,217] Launching reward_recorder.py, recorder_logdir=/tmp/demo\n",
      "\u001b[36muniverse-PjIktf-0 |\u001b[0m [init] [2017-06-28 16:50:32,261] Launching vnc_recorder.py, recorder_logdir=/tmp/demo\n",
      "\u001b[36muniverse-PjIktf-0 |\u001b[0m [init] [2017-06-28 16:50:32,274] PID 54 launched with command ['sudo', '-H', '-u', 'nobody', 'DISPLAY=:0', 'DBUS_SESSION_BUS_ADDRESS=/dev/null', '/app/universe-envs/controlplane/bin/controlplane.py', '--rewarder-port=15901']\n",
      "\u001b[36muniverse-PjIktf-0 |\u001b[0m [init] [2017-06-28 16:50:32,440] init detected end of child process 58 with exit code 0, not killed by signal\n"
     ]
    },
    {
     "name": "stderr",
     "output_type": "stream",
     "text": [
      "[2017-06-28 12:50:32,662] Remote closed: address=localhost:5902\n",
      "[2017-06-28 12:50:32,665] Remote closed: address=localhost:15902\n",
      "[2017-06-28 12:50:32,668] At least one sockets was closed by the remote. Sleeping 1s...\n"
     ]
    },
    {
     "name": "stdout",
     "output_type": "stream",
     "text": [
      "\u001b[36muniverse-PjIktf-0 |\u001b[0m [nginx] 2017/06/28 16:50:32 [error] 61#61: *1 connect() failed (111: Connection refused) while connecting to upstream, client: 172.17.0.1, server: , request: \"GET / HTTP/1.1\", upstream: \"http://127.0.0.1:15901/\", host: \"127.0.0.1:10003\"\n",
      "\u001b[36muniverse-PjIktf-0 |\u001b[0m [tigervnc]  Connections: accepted: 172.17.0.1::53034\n",
      "\u001b[36muniverse-PjIktf-0 |\u001b[0m [nginx] 172.17.0.1 - openai [28/Jun/2017:16:50:32 +0000] \"GET / HTTP/1.1\" 502 182 \"-\" \"-\"\n",
      "\u001b[36muniverse-PjIktf-0 |\u001b[0m [init] [2017-06-28 16:50:33,004] init detected end of child process 16 with exit code 0, not killed by signal\n",
      "\u001b[36muniverse-PjIktf-0 |\u001b[0m WebSocket server settings:\n",
      "\u001b[36muniverse-PjIktf-0 |\u001b[0m   - Listen on :5898\n",
      "\u001b[36muniverse-PjIktf-0 |\u001b[0m   - Flash security policy server\n",
      "\u001b[36muniverse-PjIktf-0 |\u001b[0m   - No SSL/TLS support (no cert file)\n",
      "\u001b[36muniverse-PjIktf-0 |\u001b[0m   - proxying from :5898 to localhost:5900\n"
     ]
    },
    {
     "name": "stderr",
     "output_type": "stream",
     "text": [
      "[2017-06-28 12:50:33,673] Using the golang VNC implementation\n",
      "[2017-06-28 12:50:33,675] Using VNCSession arguments: {'subsample_level': 2, 'start_timeout': 7, 'fine_quality_level': 50, 'encoding': 'tight'}. (Customize by running \"env.configure(vnc_kwargs={...})\"\n",
      "[2017-06-28 12:50:33,688] [0] Connecting to environment: vnc://localhost:5902 password=openai. If desired, you can manually connect a VNC viewer, such as TurboVNC. Most environments provide a convenient in-browser VNC client: http://localhost:15902/viewer/?password=openai\n"
     ]
    },
    {
     "name": "stdout",
     "output_type": "stream",
     "text": [
      "\u001b[36muniverse-PjIktf-0 |\u001b[0m [nginx] 2017/06/28 16:50:33 [info] 61#61: *1 client 172.17.0.1 closed keepalive connection\n",
      "\u001b[36muniverse-PjIktf-0 |\u001b[0m [tigervnc] \n",
      "\u001b[36muniverse-PjIktf-0 |\u001b[0m [tigervnc] Wed Jun 28 16:50:33 2017\n",
      "\u001b[36muniverse-PjIktf-0 |\u001b[0m [tigervnc]  Connections: closed: 172.17.0.1::53034 (Clean disconnection)\n"
     ]
    }
   ],
   "source": [
    "# The call to configure() connects the client to a remote environment server. \n",
    "# When called with configure(remotes=1), Universe will automatically create \n",
    "# a Docker image running locally on your computer. \n",
    "# The local client connects to the remote using VNC.\n",
    "env.configure(remotes=1)"
   ]
  },
  {
   "cell_type": "code",
   "execution_count": null,
   "metadata": {
    "collapsed": false
   },
   "outputs": [
    {
     "name": "stdout",
     "output_type": "stream",
     "text": [
      "\u001b[36muniverse-PjIktf-0 |\u001b[0m [tigervnc]  EncodeManager: Framebuffer updates: 0\n",
      "\u001b[36muniverse-PjIktf-0 |\u001b[0m [tigervnc]  EncodeManager:   Total: 0 rects, 0 pixels\n",
      "\u001b[36muniverse-PjIktf-0 |\u001b[0m [tigervnc]  EncodeManager:          0 B (1:-nan ratio)\n"
     ]
    }
   ],
   "source": [
    "# Asynchronously connect to the VNC server before returning.\n",
    "# the initial observations from reset will be None to indicate that there is not yet a valid observation.\n",
    "observation_n = env.reset()"
   ]
  },
  {
   "cell_type": "code",
   "execution_count": null,
   "metadata": {
    "collapsed": false
   },
   "outputs": [
    {
     "name": "stdout",
     "output_type": "stream",
     "text": [
      "\u001b[36muniverse-PjIktf-0 |\u001b[0m [tigervnc]  Connections: accepted: 172.17.0.1::53042\n",
      "\u001b[36muniverse-PjIktf-0 |\u001b[0m [nginx] 2017/06/28 16:50:33 [error] 61#61: *3 connect() failed (111: Connection refused) while connecting to upstream, client: 172.17.0.1, server: , request: \"GET / HTTP/1.1\", upstream: \"http://127.0.0.1:15901/\", host: \"localhost:15902\"\n"
     ]
    },
    {
     "name": "stderr",
     "output_type": "stream",
     "text": [
      "[2017-06-28 12:50:33,985] [0:localhost:5902] Waiting on rewarder: failed to complete WebSocket handshake. Retry in 1s (slept 0s/7s): connection was closed uncleanly (WebSocket connection upgrade failed (502 - BadGateway))\n"
     ]
    },
    {
     "name": "stdout",
     "output_type": "stream",
     "text": [
      "\u001b[36muniverse-PjIktf-0 |\u001b[0m [nginx] 172.17.0.1 - openai [28/Jun/2017:16:50:33 +0000] \"GET / HTTP/1.1\" 502 182 \"-\" \"AutobahnPython/17.6.2\"\n",
      "\u001b[36muniverse-PjIktf-0 |\u001b[0m [tigervnc]  SConnection: Client needs protocol version 3.8\n",
      "\u001b[36muniverse-PjIktf-0 |\u001b[0m [tigervnc]  SConnection: Client requests security type VncAuth(2)\n",
      "\u001b[36muniverse-PjIktf-0 |\u001b[0m [tigervnc]  VNCSConnST:  Server default pixel format depth 24 (32bpp) little-endian rgb888\n",
      "\u001b[36muniverse-PjIktf-0 |\u001b[0m [tigervnc]  VNCSConnST:  Client pixel format depth 24 (32bpp) little-endian bgr888\n",
      "\u001b[36muniverse-PjIktf-0 |\u001b[0m [nginx] 2017/06/28 16:50:33 [info] 61#61: *3 client 172.17.0.1 closed keepalive connection\n",
      "\u001b[36muniverse-PjIktf-0 |\u001b[0m [vnc_recorder] [2017-06-28 16:50:35,503] Listening on 0.0.0.0:5899\n"
     ]
    },
    {
     "name": "stderr",
     "output_type": "stream",
     "text": [
      "[2017-06-28 12:50:35,676] [0:localhost:5902] Waiting on rewarder: failed to complete WebSocket handshake. Retry in 3s (slept 1s/7s): connection was closed uncleanly (WebSocket connection upgrade failed (502 - BadGateway))\n"
     ]
    },
    {
     "name": "stdout",
     "output_type": "stream",
     "text": [
      "\u001b[36muniverse-PjIktf-0 |\u001b[0m [reward_recorder] [2017-06-28 16:50:35,643] Listening on 0.0.0.0:15898\n",
      "\u001b[36muniverse-PjIktf-0 |\u001b[0m [nginx] 2017/06/28 16:50:35 [error] 63#63: *5 connect() failed (111: Connection refused) while connecting to upstream, client: 172.17.0.1, server: , request: \"GET / HTTP/1.1\", upstream: \"http://127.0.0.1:15901/\", host: \"localhost:15902\"\n",
      "\u001b[36muniverse-PjIktf-0 |\u001b[0m [nginx] 172.17.0.1 - openai [28/Jun/2017:16:50:35 +0000] \"GET / HTTP/1.1\" 502 182 \"-\" \"AutobahnPython/17.6.2\"\n",
      "\u001b[36muniverse-PjIktf-0 |\u001b[0m [nginx] 2017/06/28 16:50:35 [info] 63#63: *5 client 172.17.0.1 closed keepalive connection\n",
      "\u001b[36muniverse-PjIktf-0 |\u001b[0m [2017-06-28 16:50:36,038] [INFO:root] Starting play_controlplane.py with the following: command=['/app/universe-envs/controlplane/bin/controlplane.py', '--rewarder-port=15901'] args=Namespace(bot_demonstration=False, demonstration=False, env_id=None, idle_timeout=None, integrator_mode=False, no_env=False, no_rewarder=False, no_scorer=False, no_vexpect=False, remotes='vnc://127.0.0.1:5900', rewarder_fps=60, rewarder_port=15901, verbosity=0) env=environ({'DBUS_SESSION_BUS_ADDRESS': '/dev/null', 'HOME': '/nonexistent', 'HOSTNAME': '9cf0841087ef', 'TERM': 'xterm', 'MAIL': '/var/mail/nobody', 'USER': 'nobody', 'SUDO_UID': '0', 'SUDO_GID': '0', 'LOGNAME': 'nobody', 'SUDO_USER': 'root', 'SUDO_COMMAND': '/app/universe-envs/controlplane/bin/controlplane.py --rewarder-port=15901', 'SHELL': '/usr/sbin/nologin', 'PATH': '/usr/local/sbin:/usr/local/bin:/usr/sbin:/usr/bin:/sbin:/bin:/snap/bin', 'USERNAME': 'nobody', 'DISPLAY': ':0'})\n",
      "\u001b[36muniverse-PjIktf-0 |\u001b[0m [2017-06-28 16:50:36,039] [INFO:root] [EnvStatus] Changing env_state: None (env_id=None) -> None (env_id=None) (episode_id: 0->0, fps=60)\n",
      "\u001b[36muniverse-PjIktf-0 |\u001b[0m [2017-06-28 16:50:36,039] [INFO:universe.rewarder.remote] Starting Rewarder on port=15901\n",
      "\u001b[36muniverse-PjIktf-0 |\u001b[0m [2017-06-28 16:50:36,052] [INFO:universe.extra.universe.wrappers.logger] Running VNC environments with Logger set to print_frequency=5. To change this, pass \"print_frequency=k\" or \"print_frequency=None\" to \"env.configure\".\n",
      "\u001b[36muniverse-PjIktf-0 |\u001b[0m [2017-06-28 16:50:36,060] [INFO:universe.remotes.hardcoded_addresses] No rewarder addresses were provided, so this env cannot connect to the remote's rewarder channel, and cannot send control messages (e.g. reset)\n",
      "\u001b[36muniverse-PjIktf-0 |\u001b[0m [2017-06-28 16:50:36,061] [INFO:universe.envs.vnc_env] Using the golang VNC implementation\n",
      "\u001b[36muniverse-PjIktf-0 |\u001b[0m [2017-06-28 16:50:36,062] [INFO:universe.envs.vnc_env] Using VNCSession arguments: {'subsample_level': 2, 'compress_level': 9, 'start_timeout': 7, 'encoding': 'zrle', 'fine_quality_level': 50}. (Customize by running \"env.configure(vnc_kwargs={...})\"\n",
      "\u001b[36muniverse-PjIktf-0 |\u001b[0m [2017-06-28 16:50:36,063] [INFO:universe.envs.vnc_env] Printed stats will ignore clock skew. (This usually makes sense only when the environment and agent are on the same machine.)\n",
      "\u001b[36muniverse-PjIktf-0 |\u001b[0m [2017-06-28 16:50:36,092] [INFO:universe.envs.vnc_env] [0] Connecting to environment: vnc://127.0.0.1:5900 password=openai. If desired, you can manually connect a VNC viewer, such as TurboVNC. Most environments provide a convenient in-browser VNC client: http://None/viewer/?password=openai\n",
      "\u001b[36muniverse-PjIktf-0 |\u001b[0m [2017-06-28 16:50:36,093] [INFO:universe.extra.universe.envs.vnc_env] [0] Connecting to environment details: vnc_address=127.0.0.1:5900 vnc_password=openai rewarder_address=None rewarder_password=openai\n",
      "\u001b[36muniverse-PjIktf-0 |\u001b[0m 2017/06/28 16:50:36 I0628 16:50:36.097252 57 gymvnc.go:417] [0:127.0.0.1:5900] opening connection to VNC server\n",
      "\u001b[36muniverse-PjIktf-0 |\u001b[0m [2017-06-28 16:50:36,110] [INFO:root] [EnvStatus] Changing env_state: None (env_id=None) -> resetting (env_id=None) (episode_id: 0->1, fps=60)\n",
      "\u001b[36muniverse-PjIktf-0 |\u001b[0m [tigervnc] \n",
      "\u001b[36muniverse-PjIktf-0 |\u001b[0m [tigervnc] Wed Jun 28 16:50:36 2017\n",
      "\u001b[36muniverse-PjIktf-0 |\u001b[0m [tigervnc]  Connections: accepted: 127.0.0.1::47868\n",
      "\u001b[36muniverse-PjIktf-0 |\u001b[0m [2017-06-28 16:50:36,110] [INFO:root] [MainThread] Env state: env_id=None episode_id=1\n",
      "\u001b[36muniverse-PjIktf-0 |\u001b[0m [tigervnc]  SConnection: Client needs protocol version 3.8\n",
      "\u001b[36muniverse-PjIktf-0 |\u001b[0m [2017-06-28 16:50:36,116] [INFO:root] [MainThread] Writing None to /tmp/demo/env_id.txt\n",
      "\u001b[36muniverse-PjIktf-0 |\u001b[0m [tigervnc]  SConnection: Client requests security type VncAuth(2)\n",
      "\u001b[36muniverse-PjIktf-0 |\u001b[0m [tigervnc]  VNCSConnST:  Server default pixel format depth 24 (32bpp) little-endian rgb888\n",
      "\u001b[36muniverse-PjIktf-0 |\u001b[0m [tigervnc]  VNCSConnST:  Client pixel format depth 24 (32bpp) little-endian bgr888\n",
      "\u001b[36muniverse-PjIktf-0 |\u001b[0m 2017/06/28 16:50:36 I0628 16:50:36.139849 57 gymvnc.go:550] [0:127.0.0.1:5900] connection established\n",
      "\u001b[36muniverse-PjIktf-0 |\u001b[0m [Wed Jun 28 16:50:36 UTC 2017] [/usr/local/bin/sudoable-env-setup] Disabling outbound network traffic for none\n",
      "\u001b[36muniverse-PjIktf-0 |\u001b[0m [2017-06-28 16:50:36,215] [INFO:gym_flashgames.launcher] [MainThread] Launching new Chrome process (attempt 0/10)\n",
      "\u001b[36muniverse-PjIktf-0 |\u001b[0m [2017-06-28 16:50:36,215] [INFO:root] Replacing selenium_wrapper_server since we currently do it at every episode boundary\n",
      "\u001b[36muniverse-PjIktf-0 |\u001b[0m [2017-06-28 16:50:36,501] [selenium_wrapper_server] Calling webdriver.Chrome()\n",
      "\u001b[36muniverse-PjIktf-0 |\u001b[0m [2017-06-28 16:50:38,844] [INFO:universe.rewarder.remote] Client connecting: peer=tcp4:127.0.0.1:58396 observer=False\n",
      "\u001b[36muniverse-PjIktf-0 |\u001b[0m [2017-06-28 16:50:38,846] [INFO:universe.rewarder.remote] WebSocket connection established\n",
      "\u001b[36muniverse-PjIktf-0 |\u001b[0m [nginx] 2017/06/28 16:50:39 [info] 63#63: *9 client sent invalid request while reading client request line, client: 127.0.0.1, server: , request: \"CONNECT www.google.com:443 HTTP/1.1\"\n",
      "\u001b[36muniverse-PjIktf-0 |\u001b[0m [nginx] 2017/06/28 16:50:39 [info] 63#63: *10 client sent invalid request while reading client request line, client: 127.0.0.1, server: , request: \"CONNECT www.google.com:443 HTTP/1.1\"\n",
      "\u001b[36muniverse-PjIktf-0 |\u001b[0m [2017-06-28 16:50:39,697] [selenium_wrapper_server] Call to webdriver.Chrome() completed: 3.20s\n",
      "\u001b[36muniverse-PjIktf-0 |\u001b[0m [2017-06-28 16:50:39,717] [INFO:gym_flashgames.launcher] [MainThread] Navigating browser to url=http://localhost\n",
      "\u001b[36muniverse-PjIktf-0 |\u001b[0m [nginx] 2017/06/28 16:50:40 [info] 63#63: *11 client sent invalid request while reading client request line, client: 127.0.0.1, server: , request: \"CONNECT www.google.com:443 HTTP/1.1\"\n",
      "\u001b[36muniverse-PjIktf-0 |\u001b[0m [2017-06-28 16:50:40,817] [INFO:root] [EnvStatus] Changing env_state: resetting (env_id=None) -> running (env_id=None) (episode_id: 1->1, fps=60)\n",
      "\u001b[36muniverse-PjIktf-0 |\u001b[0m [2017-06-28 16:50:40,849] [INFO:root] [MainThread] Writing None to /tmp/demo/env_id.txt\n",
      "\u001b[36muniverse-PjIktf-0 |\u001b[0m Manhole[1498668640.9441]: Manhole UDS path: /tmp/manhole-57\n",
      "\u001b[36muniverse-PjIktf-0 |\u001b[0m Manhole[1498668640.9441]: Waiting for new connection (in pid:57) ...\n",
      "\u001b[36muniverse-PjIktf-0 |\u001b[0m Manhole[1498668640.9788]: Patched <built-in function fork> and <built-in function fork>.\n",
      "\u001b[36muniverse-PjIktf-0 |\u001b[0m [2017-06-28 16:50:41,109] [INFO:universe.wrappers.logger] Stats for the past 5.01s: vnc_updates_ps=2.8 n=1 reaction_time=None observation_lag=None action_lag=None reward_ps=0.0 reward_total=0.0 vnc_bytes_ps[total]=102501.1 vnc_pixels_ps[total]=341548.6 reward_lag=None rewarder_message_lag=None fps=2.19\n",
      "\u001b[36muniverse-PjIktf-0 |\u001b[0m [2017-06-28 16:50:45,883] [INFO:universe.pyprofile] [pyprofile] period=5.01s timers={\"vnc_env.VNCEnv.vnc_session.step\": {\"std\": \"3.32ms\", \"mean\": \"745.00us\", \"calls\": 294}, \"rewarder.sleep\": {\"std\": \"2.25ms\", \"mean\": \"14.81ms\", \"calls\": 285}, \"rewarder.frame\": {\"std\": \"4.39ms\", \"mean\": \"18.07ms\", \"calls\": 293}, \"rewarder.compute_reward\": {\"std\": \"4.84ms\", \"mean\": \"1.50ms\", \"calls\": 294}, \"rewarder.sleep.missed\": {\"std\": \"14.82ms\", \"mean\": \"15.87ms\", \"calls\": 8}} counters={\"reward.vnc.updates.n\": {\"std\": 0.8021239016466875, \"mean\": 0.10884353741496597, \"calls\": 294}} gauges={} (export_time=156.16us)\n",
      "\u001b[36muniverse-PjIktf-0 |\u001b[0m [2017-06-28 16:50:45,884] [INFO:universe.rewarder.remote] [Rewarder] Over past 5.01s, sent 1 reward messages to agent: reward=0 reward_min=0 reward_max=0 done=False info={'rewarder.vnc.updates.n': 0, 'rewarder.vnc.updates.bytes': 0, 'rewarder.profile': '<873 bytes>', 'rewarder.vnc.updates.pixels': 0}\n",
      "\u001b[36muniverse-PjIktf-0 |\u001b[0m [2017-06-28 16:50:46,117] [INFO:universe.wrappers.logger] Stats for the past 5.00s: vnc_updates_ps=3.6 n=1 reaction_time=None observation_lag=None action_lag=None reward_ps=0.0 reward_total=0.0 vnc_bytes_ps[total]=259305.6 vnc_pixels_ps[total]=187510.2 reward_lag=None rewarder_message_lag=None fps=59.35\n",
      "\u001b[36muniverse-PjIktf-0 |\u001b[0m [2017-06-28 16:50:50,894] [INFO:universe.pyprofile] [pyprofile] period=5.01s timers={\"vnc_env.VNCEnv.vnc_session.step\": {\"std\": \"295.58us\", \"mean\": \"288.38us\", \"calls\": 300}, \"rewarder.sleep\": {\"std\": \"1.19ms\", \"mean\": \"15.16ms\", \"calls\": 298}, \"rewarder.frame\": {\"std\": \"1.33ms\", \"mean\": \"17.27ms\", \"calls\": 300}, \"rewarder.compute_reward\": {\"std\": \"1.13ms\", \"mean\": \"835.11us\", \"calls\": 300}, \"rewarder.sleep.missed\": {\"std\": \"3.24ms\", \"mean\": \"3.51ms\", \"calls\": 2}} counters={\"agent_conn.reward\": {\"std\": 0, \"mean\": 0.0, \"calls\": 1}, \"reward.vnc.updates.n\": {\"std\": 0.0, \"mean\": 0.0, \"calls\": 300}} gauges={} (export_time=1.83ms)\n",
      "\u001b[36muniverse-PjIktf-0 |\u001b[0m [2017-06-28 16:50:50,896] [INFO:universe.rewarder.remote] [Rewarder] Over past 5.01s, sent 1 reward messages to agent: reward=0 reward_min=0 reward_max=0 done=False info={'rewarder.vnc.updates.n': 0, 'rewarder.vnc.updates.bytes': 0, 'rewarder.profile': '<919 bytes>', 'rewarder.vnc.updates.pixels': 0}\n",
      "\u001b[36muniverse-PjIktf-0 |\u001b[0m [2017-06-28 16:50:51,129] [INFO:universe.wrappers.logger] Stats for the past 5.01s: vnc_updates_ps=0.0 n=1 reaction_time=None observation_lag=None action_lag=None reward_ps=0.0 reward_total=0.0 vnc_bytes_ps[total]=0.0 vnc_pixels_ps[total]=0.0 reward_lag=None rewarder_message_lag=None fps=59.68\n",
      "\u001b[36muniverse-PjIktf-0 |\u001b[0m [nginx] 2017/06/28 16:50:53 [info] 63#63: *14 client closed connection while waiting for request, client: 172.17.0.1, server: 0.0.0.0:15900\n",
      "\u001b[36muniverse-PjIktf-0 |\u001b[0m [nginx] 2017/06/28 16:50:53 [info] 63#63: *15 client closed connection while waiting for request, client: 172.17.0.1, server: 0.0.0.0:15900\n",
      "\u001b[36muniverse-PjIktf-0 |\u001b[0m [nginx] 2017/06/28 16:50:53 [info] 63#63: *16 client closed connection while waiting for request, client: 172.17.0.1, server: 0.0.0.0:15900\n",
      "\u001b[36muniverse-PjIktf-0 |\u001b[0m [nginx] 2017/06/28 16:50:53 [info] 63#63: *17 client closed connection while waiting for request, client: 172.17.0.1, server: 0.0.0.0:15900\n",
      "\u001b[36muniverse-PjIktf-0 |\u001b[0m [nginx] 2017/06/28 16:50:53 [info] 63#63: *18 client closed connection while waiting for request, client: 172.17.0.1, server: 0.0.0.0:15900\n",
      "\u001b[36muniverse-PjIktf-0 |\u001b[0m [nginx] 2017/06/28 16:50:53 [info] 63#63: *19 client closed connection while waiting for request, client: 172.17.0.1, server: 0.0.0.0:15900\n",
      "\u001b[36muniverse-PjIktf-0 |\u001b[0m [nginx] 2017/06/28 16:50:53 [info] 63#63: *20 client closed connection while waiting for request, client: 172.17.0.1, server: 0.0.0.0:15900\n",
      "\u001b[36muniverse-PjIktf-0 |\u001b[0m [nginx] 2017/06/28 16:50:53 [info] 63#63: *21 client closed connection while waiting for request, client: 172.17.0.1, server: 0.0.0.0:15900\n",
      "\u001b[36muniverse-PjIktf-0 |\u001b[0m [nginx] 2017/06/28 16:50:53 [info] 63#63: *22 client closed connection while waiting for request, client: 172.17.0.1, server: 0.0.0.0:15900\n",
      "\u001b[36muniverse-PjIktf-0 |\u001b[0m [nginx] 2017/06/28 16:50:53 [info] 63#63: *23 client closed connection while waiting for request, client: 172.17.0.1, server: 0.0.0.0:15900\n",
      "\u001b[36muniverse-PjIktf-0 |\u001b[0m [2017-06-28 16:50:53,386] [INFO:universe.rewarder.remote] CONNECTION STATUS: Marking connection as active: observer=False peer=tcp4:127.0.0.1:58396 total_conns=1\n"
     ]
    },
    {
     "name": "stderr",
     "output_type": "stream",
     "text": [
      "[2017-06-28 12:50:53,469] [0:localhost:5902] Sending reset for env_id=flashgames.CoasterRacer-v0 fps=60 episode_id=0\n"
     ]
    },
    {
     "name": "stdout",
     "output_type": "stream",
     "text": [
      "\u001b[36muniverse-PjIktf-0 |\u001b[0m [2017-06-28 16:50:53,478] [INFO:universe.rewarder.remote] Received reset message: {'method': 'v0.env.reset', 'headers': {'sent_at': 1498668653.471423, 'message_id': 10, 'episode_id': '0'}, 'body': {'env_id': 'flashgames.CoasterRacer-v0', 'fps': 60, 'seed': None}}\n",
      "\u001b[36muniverse-PjIktf-0 |\u001b[0m [2017-06-28 16:50:53,520] [INFO:root] [EnvStatus] Changing env_state: running (env_id=None) -> resetting (env_id=flashgames.CoasterRacer-v0) (episode_id: 1->2, fps=60)\n",
      "\u001b[36muniverse-PjIktf-0 |\u001b[0m [2017-06-28 16:50:53,525] [ERROR:root] Closing server (via subprocess.close()) and all chromes (via pkill chromedriver || :; pkill chrome || :)\n",
      "\u001b[36muniverse-PjIktf-0 |\u001b[0m [2017-06-28 16:50:53,536] [INFO:root] [Rewarder] Blocking until env finishes resetting\n",
      "\u001b[36muniverse-PjIktf-0 |\u001b[0m [init] [2017-06-28 16:50:53,561] init detected end of child process 108 with exit code 0, killed by SIGTERM: 15\n",
      "\u001b[36muniverse-PjIktf-0 |\u001b[0m [init] [2017-06-28 16:50:53,584] init detected end of child process 123 with exit code 0, not killed by signal\n",
      "\u001b[36muniverse-PjIktf-0 |\u001b[0m [init] [2017-06-28 16:50:53,602] init detected end of child process 330 with exit code 0, killed by SIGTERM: 15\n",
      "\u001b[36muniverse-PjIktf-0 |\u001b[0m [2017-06-28 16:50:53,607] [INFO:root] [EnvController] RESET CAUSE: changing out environments due to v0.env.reset (with episode_id=0): flashgames.CoasterRacer-v0 -> flashgames.CoasterRacer-v0 (new episode_id=2 fps=60)\n",
      "\u001b[36muniverse-PjIktf-0 |\u001b[0m [2017-06-28 16:50:53,619] [INFO:root] [EnvController] Env state: env_id=flashgames.CoasterRacer-v0 episode_id=2\n",
      "\u001b[36muniverse-PjIktf-0 |\u001b[0m [2017-06-28 16:50:53,660] [INFO:root] [EnvController] Writing flashgames.CoasterRacer-v0 to /tmp/demo/env_id.txt\n",
      "\u001b[36muniverse-PjIktf-0 |\u001b[0m [init] [2017-06-28 16:50:53,681] init detected end of child process 345 with exit code 0, killed by SIGTERM: 15\n",
      "\u001b[36muniverse-PjIktf-0 |\u001b[0m [Wed Jun 28 16:50:53 UTC 2017] [/usr/local/bin/sudoable-env-setup] Allowing outbound network traffic to non-private IPs for git-lfs. (Going to fetch files via git lfs.)\n",
      "\u001b[36muniverse-PjIktf-0 |\u001b[0m [nginx] 2017/06/28 16:50:53 [info] 63#63: *13 client closed connection while waiting for request, client: 127.0.0.1, server: 0.0.0.0:80\n",
      "\u001b[36muniverse-PjIktf-0 |\u001b[0m [nginx] 2017/06/28 16:50:53 [info] 63#63: *12 client 127.0.0.1 closed keepalive connection\n",
      "\u001b[36muniverse-PjIktf-0 |\u001b[0m [init] [2017-06-28 16:50:54,074] init detected end of child process 119 with exit code 0, not killed by signal\n",
      "\u001b[36muniverse-PjIktf-0 |\u001b[0m [init] [2017-06-28 16:50:54,075] init detected end of child process 120 with exit code 0, not killed by signal\n",
      "\u001b[36muniverse-PjIktf-0 |\u001b[0m [init] [2017-06-28 16:50:54,076] init detected end of child process 122 with exit code 0, killed by SIGTERM: 15\n",
      "\u001b[36muniverse-PjIktf-0 |\u001b[0m [init] [2017-06-28 16:50:54,077] init detected end of child process 111 with exit code 0, not killed by signal\n",
      "\u001b[36muniverse-PjIktf-0 |\u001b[0m [unpack-lfs] [2017-06-28 16:50:54,304] Fetching files: git lfs pull -I git-lfs/flashgames.CoasterRacer-v0.tar.gz\n",
      "\u001b[36muniverse-PjIktf-0 |\u001b[0m [unpack-lfs] [2017-06-28 16:50:54,309] If this hangs, your docker container may not be able to communicate with Github\n",
      "\u001b[36muniverse-PjIktf-0 |\u001b[0m [unpack-lfs] [2017-06-28 16:51:00,861] Finished running git lfs pull\n",
      "\u001b[36muniverse-PjIktf-0 |\u001b[0m [unpack-lfs] [2017-06-28 16:51:00,868] git-lfs fetch succeeded\n",
      "\u001b[36muniverse-PjIktf-0 |\u001b[0m [unpack-lfs] [2017-06-28 16:51:00,875] Unpacking files for flashgames.CoasterRacer-v0\n",
      "\u001b[36muniverse-PjIktf-0 |\u001b[0m [unpack-lfs] [2017-06-28 16:51:01,022] Merged 5 files from /tmp/flashgames.CoasterRacer-v0/public -> /app/universe-envs/flashgames/build/public/flashgames.CoasterRacer-v0\n",
      "\u001b[36muniverse-PjIktf-0 |\u001b[0m [unpack-lfs] [2017-06-28 16:51:01,037] Merged 33 files from /tmp/flashgames.CoasterRacer-v0/private -> /app/universe-envs/flashgames/build/private/flashgames.CoasterRacer-v0\n",
      "\u001b[36muniverse-PjIktf-0 |\u001b[0m [unpack-lfs] [2017-06-28 16:51:01,045] Completed unpack for flashgames.CoasterRacer-v0 in 6.745s\n",
      "\u001b[36muniverse-PjIktf-0 |\u001b[0m [Wed Jun 28 16:51:01 UTC 2017] [/usr/local/bin/sudoable-env-setup] [debug] unpack-lfs completed with status code: 0. Created completion file: /usr/local/openai/git-lfs/flashgames.CoasterRacer-v0\n",
      "\u001b[36muniverse-PjIktf-0 |\u001b[0m [Wed Jun 28 16:51:01 UTC 2017] [/usr/local/bin/sudoable-env-setup] Disabling outbound network traffic for flashgames.CoasterRacer-v0\n",
      "\u001b[36muniverse-PjIktf-0 |\u001b[0m [2017-06-28 16:51:01,230] [INFO:gym_flashgames.launcher] [EnvController] Launching new Chrome process (attempt 0/10)\n",
      "\u001b[36muniverse-PjIktf-0 |\u001b[0m [2017-06-28 16:51:01,231] [INFO:root] Replacing selenium_wrapper_server since we currently do it at every episode boundary\n",
      "\u001b[36muniverse-PjIktf-0 |\u001b[0m [2017-06-28 16:51:01,756] [selenium_wrapper_server] Calling webdriver.Chrome()\n",
      "\u001b[36muniverse-PjIktf-0 |\u001b[0m [nginx] 2017/06/28 16:51:04 [info] 63#63: *24 client sent invalid request while reading client request line, client: 127.0.0.1, server: , request: \"CONNECT www.google.com:443 HTTP/1.1\"\n",
      "\u001b[36muniverse-PjIktf-0 |\u001b[0m [nginx] 2017/06/28 16:51:04 [info] 63#63: *25 client sent invalid request while reading client request line, client: 127.0.0.1, server: , request: \"CONNECT www.google.com:443 HTTP/1.1\"\n",
      "\u001b[36muniverse-PjIktf-0 |\u001b[0m [nginx] 2017/06/28 16:51:05 [info] 63#63: *26 client sent invalid request while reading client request line, client: 127.0.0.1, server: , request: \"CONNECT www.google.com:443 HTTP/1.1\"\n",
      "\u001b[36muniverse-PjIktf-0 |\u001b[0m [2017-06-28 16:51:05,426] [selenium_wrapper_server] Call to webdriver.Chrome() completed: 3.67s\n",
      "\u001b[36muniverse-PjIktf-0 |\u001b[0m [2017-06-28 16:51:05,429] [INFO:gym_flashgames.launcher] [EnvController] Navigating browser to url=http://localhost/flashgames.CoasterRacer-v0\n",
      "\u001b[36muniverse-PjIktf-0 |\u001b[0m [2017-06-28 16:51:07,788] [INFO:root] [EnvController] Running command: /app/universe-envs/controlplane/bin/play_vexpect -e flashgames.CoasterRacer-v0 -r vnc://127.0.0.1:5900 -d\n",
      "\u001b[36muniverse-PjIktf-0 |\u001b[0m 2017/06/28 16:51:08 I0628 16:51:08.900979 57 gymvnc.go:374] [0:127.0.0.1:5900] update queue max of 60 reached; pausing further updates\n",
      "\u001b[36muniverse-PjIktf-0 |\u001b[0m [2017-06-28 16:51:12,848] [play_vexpect] No rewarder addresses were provided, so this env cannot connect to the remote's rewarder channel, and cannot send control messages (e.g. reset)\n",
      "\u001b[36muniverse-PjIktf-0 |\u001b[0m [2017-06-28 16:51:12,849] [play_vexpect] Using the golang VNC implementation\n",
      "\u001b[36muniverse-PjIktf-0 |\u001b[0m [2017-06-28 16:51:12,850] [play_vexpect] Using VNCSession arguments: {'compress_level': 0, 'encoding': 'zrle', 'start_timeout': 7, 'subsample_level': 2, 'fine_quality_level': 50}. (Customize by running \"env.configure(vnc_kwargs={...})\"\n",
      "\u001b[36muniverse-PjIktf-0 |\u001b[0m [2017-06-28 16:51:12,854] [play_vexpect] Printed stats will ignore clock skew. (This usually makes sense only when the environment and agent are on the same machine.)\n",
      "\u001b[36muniverse-PjIktf-0 |\u001b[0m [2017-06-28 16:51:12,883] [play_vexpect] [0] Connecting to environment: vnc://127.0.0.1:5900 password=openai. If desired, you can manually connect a VNC viewer, such as TurboVNC. Most environments provide a convenient in-browser VNC client: http://None/viewer/?password=openai\n",
      "\u001b[36muniverse-PjIktf-0 |\u001b[0m [2017-06-28 16:51:12,886] [play_vexpect] [0] Connecting to environment details: vnc_address=127.0.0.1:5900 vnc_password=openai rewarder_address=None rewarder_password=openai\n",
      "\u001b[36muniverse-PjIktf-0 |\u001b[0m 2017/06/28 16:51:12 I0628 16:51:12.892418 708 gymvnc.go:417] [0:127.0.0.1:5900] opening connection to VNC server\n",
      "\u001b[36muniverse-PjIktf-0 |\u001b[0m [tigervnc] \n",
      "\u001b[36muniverse-PjIktf-0 |\u001b[0m [tigervnc] Wed Jun 28 16:51:12 2017\n",
      "\u001b[36muniverse-PjIktf-0 |\u001b[0m [tigervnc]  Connections: accepted: 127.0.0.1::48262\n",
      "\u001b[36muniverse-PjIktf-0 |\u001b[0m [tigervnc]  SConnection: Client needs protocol version 3.8\n",
      "\u001b[36muniverse-PjIktf-0 |\u001b[0m [tigervnc]  SConnection: Client requests security type VncAuth(2)\n",
      "\u001b[36muniverse-PjIktf-0 |\u001b[0m [tigervnc]  VNCSConnST:  Server default pixel format depth 24 (32bpp) little-endian rgb888\n",
      "\u001b[36muniverse-PjIktf-0 |\u001b[0m 2017/06/28 16:51:12 I0628 16:51:12.961466 708 gymvnc.go:550] [0:127.0.0.1:5900] connection established\n",
      "\u001b[36muniverse-PjIktf-0 |\u001b[0m [tigervnc]  VNCSConnST:  Client pixel format depth 24 (32bpp) little-endian bgr888\n",
      "\u001b[36muniverse-PjIktf-0 |\u001b[0m [2017-06-28 16:51:13,831] [play_vexpect] Waiting for any of [initialize0] to activate\n",
      "\u001b[36muniverse-PjIktf-0 |\u001b[0m [2017-06-28 16:51:20,318] [play_vexpect] Applying transition: ClickTransition<initialize0->['initialize1'] x=200 y=414 buttonmask=1> for active state initialize0. (Summary: plausible_states=initialize0 distance_m=0.0217381 match_time_m=245us)\n",
      "\u001b[36muniverse-PjIktf-0 |\u001b[0m [2017-06-28 16:51:20,338] [play_vexpect] Waiting for any of [initialize1] to activate (or whether any of [initialize0] are still active)\n",
      "\u001b[36muniverse-PjIktf-0 |\u001b[0m [2017-06-28 16:51:24,378] [play_vexpect] Advancing to the next hopeful state (2/2): initialize0\n",
      "\u001b[36muniverse-PjIktf-0 |\u001b[0m [2017-06-28 16:51:27,427] [play_vexpect] Advancing to the next hopeful state (1/2): initialize1\n",
      "\u001b[36muniverse-PjIktf-0 |\u001b[0m [2017-06-28 16:51:27,718] [play_vexpect] Applying transition: ClickTransition<initialize1->['initialize2'] x=229 y=290 buttonmask=1> for active state initialize1. (Summary: plausible_states=[initialize1, initialize0] distance_m=[0.06936983, 2.3945079] match_time_m=['567us', '158us'])\n",
      "\u001b[36muniverse-PjIktf-0 |\u001b[0m [2017-06-28 16:51:27,730] [play_vexpect] Waiting for any of [initialize2] to activate (or whether any of [initialize1] are still active)\n",
      "\u001b[36muniverse-PjIktf-0 |\u001b[0m [2017-06-28 16:51:27,987] [play_vexpect] Applying transition: ClickTransition<initialize2->['initialize3'] x=197 y=514 buttonmask=1> for active state initialize2. (Summary: plausible_states=[initialize2, initialize1] distance_m=[0.0, 1.2174534] match_time_m=['283us', '148us'])\n",
      "\u001b[36muniverse-PjIktf-0 |\u001b[0m [2017-06-28 16:51:28,003] [play_vexpect] Waiting for any of [initialize3] to activate (or whether any of [initialize2] are still active)\n",
      "\u001b[36muniverse-PjIktf-0 |\u001b[0m [2017-06-28 16:51:29,087] [play_vexpect] Applying transition: ClickTransition<initialize3->['ready0'] x=350 y=482 buttonmask=1> for active state initialize3. (Summary: plausible_states=[initialize3, initialize2] distance_m=[0.0, 4.3873959] match_time_m=['236us', '93us'])\n",
      "\u001b[36muniverse-PjIktf-0 |\u001b[0m [2017-06-28 16:51:29,103] [play_vexpect] Waiting for any of [ready0] to activate (or whether any of [initialize3] are still active)\n",
      "\u001b[36muniverse-PjIktf-0 |\u001b[0m [2017-06-28 16:51:29,240] [play_vexpect] Applying transition: ClickTransition<ready0->[] x=0 y=0 buttonmask=0> for active state ready0. (Summary: plausible_states=[ready0, initialize3] distance_m=[0.0, 2.7656915] match_time_m=['355us', '780us'])\n",
      "\u001b[36muniverse-PjIktf-0 |\u001b[0m [2017-06-28 16:51:29,245] [play_vexpect] Reaching start state: ready0\n",
      "\u001b[36muniverse-PjIktf-0 |\u001b[0m [2017-06-28 16:51:29,246] [play_vexpect] vexpect macro complete in 16.228953s\n",
      "\u001b[36muniverse-PjIktf-0 |\u001b[0m [tigervnc] \n",
      "\u001b[36muniverse-PjIktf-0 |\u001b[0m [tigervnc] Wed Jun 28 16:51:29 2017\n",
      "\u001b[36muniverse-PjIktf-0 |\u001b[0m [tigervnc]  Connections: closed: 127.0.0.1::48262 (Clean disconnection)\n",
      "\u001b[36muniverse-PjIktf-0 |\u001b[0m [tigervnc]  EncodeManager: Framebuffer updates: 163\n",
      "\u001b[36muniverse-PjIktf-0 |\u001b[0m [tigervnc]  EncodeManager:   ZRLE:\n",
      "\u001b[36muniverse-PjIktf-0 |\u001b[0m [tigervnc]  EncodeManager:     Solid: 43 rects, 14.669 kpixels\n",
      "\u001b[36muniverse-PjIktf-0 |\u001b[0m [tigervnc]  EncodeManager:            1.25977 KiB (1:45.8853 ratio)\n",
      "\u001b[36muniverse-PjIktf-0 |\u001b[0m [tigervnc]  EncodeManager:     Bitmap RLE: 7 rects, 35.845 kpixels\n",
      "\u001b[36muniverse-PjIktf-0 |\u001b[0m [tigervnc]  EncodeManager:                 4.89258 KiB (1:28.6355 ratio)\n",
      "\u001b[36muniverse-PjIktf-0 |\u001b[0m [tigervnc]  EncodeManager:     Indexed RLE: 125 rects, 356.207 kpixels\n",
      "\u001b[36muniverse-PjIktf-0 |\u001b[0m [tigervnc]  EncodeManager:                  71.0566 KiB (1:19.6026 ratio)\n",
      "\u001b[36muniverse-PjIktf-0 |\u001b[0m [tigervnc]  EncodeManager:     Full Colour: 36 rects, 1.15368 Mpixels\n",
      "\u001b[36muniverse-PjIktf-0 |\u001b[0m [tigervnc]  EncodeManager:                  3.30235 MiB (1:1.33279 ratio)\n",
      "\u001b[36muniverse-PjIktf-0 |\u001b[0m [tigervnc]  EncodeManager:   Total: 211 rects, 1.5604 Mpixels\n",
      "\u001b[36muniverse-PjIktf-0 |\u001b[0m [tigervnc]  EncodeManager:          3.37775 MiB (1:1.76297 ratio)\n"
     ]
    },
    {
     "name": "stderr",
     "output_type": "stream",
     "text": [
      "[2017-06-28 12:51:30,070] [0:localhost:5902] Initial reset complete: episode_id=2\n"
     ]
    },
    {
     "name": "stdout",
     "output_type": "stream",
     "text": [
      "\u001b[36muniverse-PjIktf-0 |\u001b[0m [2017-06-28 16:51:30,055] [INFO:root] [EnvStatus] Changing env_state: resetting (env_id=flashgames.CoasterRacer-v0) -> running (env_id=flashgames.CoasterRacer-v0) (episode_id: 2->2, fps=60)\n",
      "\u001b[36muniverse-PjIktf-0 |\u001b[0m [2017-06-28 16:51:30,057] [INFO:universe.rewarder.remote] Sending rewarder message: {'method': 'v0.reply.env.reset', 'headers': {'parent_runtime': 36.578983783721924, 'sent_at': 1498668690.0573988, 'parent_message_id': 10, 'message_id': 16, 'episode_id': '2'}, 'body': {}}\n",
      "\u001b[36muniverse-PjIktf-0 |\u001b[0m [2017-06-28 16:51:30,062] [INFO:root] [Rewarder] Unblocking since env reset finished\n",
      "\u001b[36muniverse-PjIktf-0 |\u001b[0m [2017-06-28 16:51:30,063] [INFO:root] [Rewarder] Changing reward_parsers: None -> flashgames.CoasterRacer-v0\n",
      "\u001b[36muniverse-PjIktf-0 |\u001b[0m [2017-06-28 16:51:30,070] [INFO:root] [Rewarder] Writing flashgames.CoasterRacer-v0 to /tmp/demo/env_id.txt\n",
      "\u001b[36muniverse-PjIktf-0 |\u001b[0m [2017-06-28 16:51:34,983] [INFO:gym_controlplane.registration] Loaded scorer: <gym_controlplane.reward.score.OCRScorerV0 object at 0x7fd2e49f7630>\n",
      "\u001b[36muniverse-PjIktf-0 |\u001b[0m [2017-06-28 16:51:35,524] [INFO:gym_controlplane.registration] Created reward parser for flashgames.CoasterRacer-v0: Reward<scorer=<gym_controlplane.reward.score.OCRScorerV0 object at 0x7fd2e49f7630> vexpect=VExpect<{'initialize0': <gym_controlplane.integration.transition.ClickTransition object at 0x7fd2b53df2b0>, 'initialize2': <gym_controlplane.integration.transition.ClickTransition object at 0x7fd2b53df438>, 'ready0': <gym_controlplane.integration.transition.ClickTransition object at 0x7fd2b53df5f8>, 'initialize3': <gym_controlplane.integration.transition.ClickTransition object at 0x7fd2b53df6a0>, 'initialize1': <gym_controlplane.integration.transition.ClickTransition object at 0x7fd2b53df748>}>>\n",
      "\u001b[36muniverse-PjIktf-0 |\u001b[0m [2017-06-28 16:51:35,526] [INFO:root] Using metadata_encoding={'type': 'qrcode', 'x': 914, 'width': 100, 'height': 100, 'y': 658} probe_key=96 subscription=[(324, 25, 95, 25), (450, 25, 92, 25), (249, 86, 86, 28), (914, 100, 658, 100)]\n",
      "\u001b[36muniverse-PjIktf-0 |\u001b[0m [2017-06-28 16:51:35,533] [INFO:universe.rewarder.remote] [Rewarder] Over past 44.64s, sent 0 reward messages to agent: reward=0 reward_min=(empty) reward_max=(empty) done=False info={}\n",
      "\u001b[36muniverse-PjIktf-0 |\u001b[0m [2017-06-28 16:51:35,537] [INFO:universe.rewarder.remote] [Rewarder] Ending previous episode: episode_reward=0 episode_count=2 episode_duration=54.67\n",
      "\u001b[36muniverse-PjIktf-0 |\u001b[0m 2017/06/28 16:51:35 I0628 16:51:35.554473 57 gymvnc.go:278] [0:127.0.0.1:5900] resuming updates\n",
      "\u001b[36muniverse-PjIktf-0 |\u001b[0m [2017-06-28 16:51:35,576] [INFO:universe.wrappers.logger] Stats for the past 44.43s: vnc_updates_ps=0.0 n=1 reaction_time=None observation_lag=None action_lag=None reward_ps=0.0 reward_total=0.0 vnc_bytes_ps[total]=0.0 vnc_pixels_ps[total]=0.0 reward_lag=None rewarder_message_lag=None fps=3.24\n",
      "\u001b[36muniverse-PjIktf-0 |\u001b[0m [2017-06-28 16:51:35,639] [INFO:universe.pyprofile] [pyprofile] period=44.75s timers={\"score.crop_cache.get.OCRScorerV0\": {\"std\": \"0.00us\", \"mean\": \"579.83us\", \"calls\": 1}, \"reward.parsing.gameover\": {\"std\": \"0.00us\", \"mean\": \"420.33us\", \"calls\": 1}, \"reward.parsing.score\": {\"std\": \"0.00us\", \"mean\": \"51.54ms\", \"calls\": 1}, \"score.crop_cache.get.MatchImage\": {\"std\": \"0.67us\", \"mean\": \"7.63us\", \"calls\": 2}, \"rewarder_protocol.latency.rtt.skew_unadjusted\": {\"std\": \"18.73ms\", \"mean\": \"12.15ms\", \"calls\": 11}, \"rewarder.frame\": {\"std\": \"3.55ms\", \"mean\": \"17.68ms\", \"calls\": 157}, \"rewarder.sleep\": {\"std\": \"1.45ms\", \"mean\": \"15.37ms\", \"calls\": 154}, \"score.crop_cache.readthrough.MatchImage\": {\"std\": \"27.14us\", \"mean\": \"122.67us\", \"calls\": 2}, \"rewarder.sleep.missed\": {\"std\": \"10.15ms\", \"mean\": \"7.26ms\", \"calls\": 3}, \"vnc_env.VNCEnv.vnc_session.step\": {\"std\": \"1.39ms\", \"mean\": \"336.52us\", \"calls\": 157}, \"rewarder.compute_reward\": {\"std\": \"7.70ms\", \"mean\": \"1.27ms\", \"calls\": 157}, \"score.crop_cache.readthrough.OCRScorerV0\": {\"std\": \"0.00us\", \"mean\": \"49.37ms\", \"calls\": 1}} counters={\"agent_conn.reward\": {\"std\": 0, \"mean\": 0.0, \"calls\": 1}, \"control.env_id_change\": {\"std\": 0, \"mean\": 1.0, \"calls\": 1}, \"control.env_id_change.flashgames.CoasterRacer-v0\": {\"std\": 0, \"mean\": 1.0, \"calls\": 1}, \"reward.vnc.updates.n\": {\"std\": 4.868329995252495, \"mean\": 0.3885350318471338, \"calls\": 157}, \"rewarder_protocol.messages\": {\"std\": 0.0, \"mean\": 1.0, \"calls\": 11}, \"rewarder_protocol.messages.v0.control.ping\": {\"std\": 0.0, \"mean\": 1.0, \"calls\": 10}, \"rewarder_protocol.messages.v0.env.reset\": {\"std\": 0, \"mean\": 1.0, \"calls\": 1}} gauges={} (export_time=176.43us)\n",
      "\u001b[36muniverse-PjIktf-0 |\u001b[0m [2017-06-28 16:51:35,640] [INFO:root] [Rewarder] Rewarder fell behind by 5.560223340988159s from target; losing 333 frames\n",
      "\u001b[36muniverse-PjIktf-0 |\u001b[0m [2017-06-28 16:51:37,219] [INFO:gym_controlplane.reward.reward] First score parsed: score=65\n",
      "\u001b[36muniverse-PjIktf-0 |\u001b[0m [2017-06-28 16:51:37,791] [INFO:universe.rewarder.remote] [Rewarder] Over past 2.26s, sent 2 reward messages to agent: reward=69 reward_min=0 reward_max=69 done=False info={'rewarder.vnc.updates.n': 1, 'rewarder.vnc.updates.bytes': 10394, 'rewarder.profile': '<2395 bytes>', 'rewarder.vnc.updates.pixels': 12773}\n",
      "\u001b[36muniverse-PjIktf-0 |\u001b[0m [2017-06-28 16:51:39,059] [INFO:universe.rewarder.remote] [Rewarder] Over past 1.27s, sent 4 reward messages to agent: reward=121.0 reward_min=16.0 reward_max=42 done=False info={'rewarder.vnc.updates.n': 1, 'rewarder.vnc.updates.bytes': 8474, 'rewarder.vnc.updates.pixels': 2773}\n",
      "\u001b[36muniverse-PjIktf-0 |\u001b[0m [2017-06-28 16:51:40,138] [INFO:universe.rewarder.remote] [Rewarder] Over past 1.08s, sent 8 reward messages to agent: reward=128.0 reward_min=12.0 reward_max=20.0 done=False info={'rewarder.vnc.updates.n': 1, 'rewarder.vnc.updates.bytes': 344, 'rewarder.vnc.updates.pixels': 2400}\n",
      "\u001b[36muniverse-PjIktf-0 |\u001b[0m [2017-06-28 16:51:40,594] [INFO:universe.wrappers.logger] Stats for the past 5.01s: vnc_updates_ps=18.0 n=1 reaction_time=None observation_lag=None action_lag=None reward_ps=0.0 reward_total=0.0 vnc_bytes_ps[total]=337085.1 vnc_pixels_ps[total]=553904.4 reward_lag=None rewarder_message_lag=None fps=57.89\n",
      "\u001b[36muniverse-PjIktf-0 |\u001b[0m [2017-06-28 16:51:40,645] [INFO:universe.pyprofile] [pyprofile] period=5.01s timers={\"score.crop_cache.get.OCRScorerV0\": {\"std\": \"261.81us\", \"mean\": \"210.92us\", \"calls\": 25}, \"reward.parsing.gameover\": {\"std\": \"444.78us\", \"mean\": \"482.20us\", \"calls\": 25}, \"rewarder.sleep\": {\"std\": \"1.25ms\", \"mean\": \"15.53ms\", \"calls\": 275}, \"vnc_env.VNCEnv.vnc_session.step\": {\"std\": \"540.27us\", \"mean\": \"207.60us\", \"calls\": 293}, \"reward.parsing.score\": {\"std\": \"10.22ms\", \"mean\": \"15.01ms\", \"calls\": 25}, \"score.crop_cache.readthrough.OCRScorerV0\": {\"std\": \"5.18ms\", \"mean\": \"20.00ms\", \"calls\": 18}, \"score.crop_cache.readthrough.MatchImage\": {\"std\": \"246.62us\", \"mean\": \"124.55us\", \"calls\": 33}, \"score.crop_cache.get.MatchImage\": {\"std\": \"51.58us\", \"mean\": \"56.67us\", \"calls\": 50}, \"rewarder.frame\": {\"std\": \"324.87ms\", \"mean\": \"36.54ms\", \"calls\": 293}, \"rewarder.compute_reward\": {\"std\": \"5.56ms\", \"mean\": \"1.88ms\", \"calls\": 293}, \"rewarder.sleep.missed\": {\"std\": \"1.31s\", \"mean\": \"316.40ms\", \"calls\": 18}} counters={\"agent_conn.reward\": {\"std\": 15.674687663023253, \"mean\": 22.6875, \"calls\": 16}, \"reward.vnc.updates.n\": {\"std\": 0.3418808413778817, \"mean\": 0.09897610921501712, \"calls\": 293}, \"score.crop_cache.hit.MatchImage\": {\"std\": 0.0, \"mean\": 1.0, \"calls\": 17}, \"score.crop_cache.hit.OCRScorerV0\": {\"std\": 0.0, \"mean\": 1.0, \"calls\": 7}} gauges={\"reward_parser.score.last_score\": {\"value\": 408.0, \"std\": 94.4651840397879, \"mean\": 270.6363636363636, \"calls\": 22}} (export_time=157.36us)\n",
      "\u001b[36muniverse-PjIktf-0 |\u001b[0m [2017-06-28 16:51:41,150] [INFO:universe.rewarder.remote] [Rewarder] Over past 1.01s, sent 5 reward messages to agent: reward=95.0 reward_min=0 reward_max=30.0 done=False info={'rewarder.vnc.updates.n': 1, 'rewarder.vnc.updates.bytes': 6783, 'rewarder.profile': '<2175 bytes>', 'rewarder.vnc.updates.pixels': 2253}\n",
      "\u001b[36muniverse-PjIktf-0 |\u001b[0m [2017-06-28 16:51:42,151] [INFO:universe.rewarder.remote] [Rewarder] Over past 1.00s, sent 5 reward messages to agent: reward=120.0 reward_min=20.0 reward_max=30.0 done=False info={'rewarder.vnc.updates.n': 1, 'rewarder.vnc.updates.bytes': 7383, 'rewarder.vnc.updates.pixels': 2453}\n",
      "\u001b[36muniverse-PjIktf-0 |\u001b[0m [2017-06-28 16:51:43,322] [INFO:universe.rewarder.remote] [Rewarder] Over past 1.17s, sent 5 reward messages to agent: reward=196.0 reward_min=24.0 reward_max=54.0 done=False info={'rewarder.vnc.updates.n': 1, 'rewarder.vnc.updates.bytes': 8103, 'rewarder.vnc.updates.pixels': 12053}\n",
      "\u001b[36muniverse-PjIktf-0 |\u001b[0m [2017-06-28 16:51:44,341] [INFO:universe.rewarder.remote] [Rewarder] Over past 1.02s, sent 5 reward messages to agent: reward=174.0 reward_min=30.0 reward_max=42.0 done=False info={'rewarder.vnc.updates.n': 1, 'rewarder.vnc.updates.bytes': 10502, 'rewarder.vnc.updates.pixels': 3449}\n",
      "\u001b[36muniverse-PjIktf-0 |\u001b[0m [2017-06-28 16:51:45,603] [INFO:universe.wrappers.logger] Stats for the past 5.01s: vnc_updates_ps=6.8 n=1 reaction_time=None observation_lag=None action_lag=None reward_ps=0.0 reward_total=0.0 vnc_bytes_ps[total]=40011.0 vnc_pixels_ps[total]=42366.8 reward_lag=None rewarder_message_lag=None fps=58.91\n",
      "\u001b[36muniverse-PjIktf-0 |\u001b[0m [2017-06-28 16:51:45,657] [INFO:universe.pyprofile] [pyprofile] period=5.01s timers={\"score.crop_cache.get.OCRScorerV0\": {\"std\": \"52.60us\", \"mean\": \"109.03us\", \"calls\": 30}, \"reward.parsing.gameover\": {\"std\": \"157.45us\", \"mean\": \"342.11us\", \"calls\": 30}, \"rewarder.sleep\": {\"std\": \"1.03ms\", \"mean\": \"15.48ms\", \"calls\": 274}, \"vnc_env.VNCEnv.vnc_session.step\": {\"std\": \"185.69us\", \"mean\": \"150.27us\", \"calls\": 295}, \"reward.parsing.score\": {\"std\": \"9.01ms\", \"mean\": \"13.51ms\", \"calls\": 30}, \"score.crop_cache.readthrough.OCRScorerV0\": {\"std\": \"2.89ms\", \"mean\": \"18.69ms\", \"calls\": 21}, \"score.crop_cache.readthrough.MatchImage\": {\"std\": \"45.93us\", \"mean\": \"87.59us\", \"calls\": 26}, \"score.crop_cache.get.MatchImage\": {\"std\": \"33.40us\", \"mean\": \"57.01us\", \"calls\": 60}, \"rewarder.frame\": {\"std\": \"1.43ms\", \"mean\": \"17.45ms\", \"calls\": 295}, \"rewarder.compute_reward\": {\"std\": \"5.10ms\", \"mean\": \"1.94ms\", \"calls\": 295}, \"rewarder.sleep.missed\": {\"std\": \"3.05ms\", \"mean\": \"4.37ms\", \"calls\": 21}} counters={\"agent_conn.reward\": {\"std\": 12.398732654129269, \"mean\": 30.857142857142858, \"calls\": 21}, \"reward.vnc.updates.n\": {\"std\": 0.35990057173906614, \"mean\": 0.11525423728813566, \"calls\": 295}, \"score.crop_cache.hit.MatchImage\": {\"std\": 0.0, \"mean\": 1.0, \"calls\": 34}, \"score.crop_cache.hit.OCRScorerV0\": {\"std\": 0.0, \"mean\": 1.0, \"calls\": 9}} gauges={\"reward_parser.score.last_score\": {\"value\": 1076.0, \"std\": 188.30630769371848, \"mean\": 719.9, \"calls\": 30}} (export_time=144.96us)\n",
      "\u001b[36muniverse-PjIktf-0 |\u001b[0m [2017-06-28 16:51:45,658] [INFO:universe.rewarder.remote] [Rewarder] Over past 1.32s, sent 4 reward messages to agent: reward=108.0 reward_min=0 reward_max=48.0 done=False info={'rewarder.vnc.updates.n': 0, 'rewarder.vnc.updates.bytes': 0, 'rewarder.profile': '<2191 bytes>', 'rewarder.vnc.updates.pixels': 0}\n",
      "\u001b[36muniverse-PjIktf-0 |\u001b[0m [2017-06-28 16:51:46,921] [INFO:universe.rewarder.remote] [Rewarder] Over past 1.26s, sent 4 reward messages to agent: reward=210.0 reward_min=30.0 reward_max=91.0 done=False info={'rewarder.vnc.updates.n': 1, 'rewarder.vnc.updates.bytes': 10502, 'rewarder.vnc.updates.pixels': 3449}\n",
      "\u001b[36muniverse-PjIktf-0 |\u001b[0m [2017-06-28 16:51:47,950] [INFO:universe.rewarder.remote] [Rewarder] Over past 1.03s, sent 4 reward messages to agent: reward=273.0 reward_min=42.0 reward_max=91.0 done=False info={'rewarder.vnc.updates.n': 1, 'rewarder.vnc.updates.bytes': 10502, 'rewarder.vnc.updates.pixels': 3449}\n",
      "\u001b[36muniverse-PjIktf-0 |\u001b[0m [2017-06-28 16:51:49,006] [INFO:universe.rewarder.remote] [Rewarder] Over past 1.06s, sent 5 reward messages to agent: reward=175.0 reward_min=28.0 reward_max=42.0 done=False info={'rewarder.vnc.updates.n': 1, 'rewarder.vnc.updates.bytes': 10502, 'rewarder.vnc.updates.pixels': 3449}\n",
      "\u001b[36muniverse-PjIktf-0 |\u001b[0m [2017-06-28 16:51:50,350] [INFO:universe.rewarder.remote] [Rewarder] Over past 1.34s, sent 5 reward messages to agent: reward=156.0 reward_min=28.0 reward_max=35.0 done=False info={'rewarder.vnc.updates.n': 1, 'rewarder.vnc.updates.bytes': 1229, 'rewarder.vnc.updates.pixels': 9100}\n",
      "\u001b[36muniverse-PjIktf-0 |\u001b[0m [2017-06-28 16:51:50,625] [INFO:universe.wrappers.logger] Stats for the past 5.02s: vnc_updates_ps=5.8 n=1 reaction_time=None observation_lag=None action_lag=None reward_ps=0.0 reward_total=0.0 vnc_bytes_ps[total]=38962.3 vnc_pixels_ps[total]=36505.3 reward_lag=None rewarder_message_lag=None fps=58.82\n",
      "\u001b[36muniverse-PjIktf-0 |\u001b[0m [2017-06-28 16:51:50,670] [INFO:universe.pyprofile] [pyprofile] period=5.01s timers={\"score.crop_cache.get.OCRScorerV0\": {\"std\": \"63.28us\", \"mean\": \"119.07us\", \"calls\": 27}, \"reward.parsing.gameover\": {\"std\": \"603.79us\", \"mean\": \"513.80us\", \"calls\": 27}, \"rewarder.sleep\": {\"std\": \"1.70ms\", \"mean\": \"15.26ms\", \"calls\": 279}, \"vnc_env.VNCEnv.vnc_session.step\": {\"std\": \"311.82us\", \"mean\": \"177.57us\", \"calls\": 295}, \"reward.parsing.score\": {\"std\": \"9.99ms\", \"mean\": \"12.59ms\", \"calls\": 27}, \"score.crop_cache.readthrough.OCRScorerV0\": {\"std\": \"3.94ms\", \"mean\": \"19.16ms\", \"calls\": 17}, \"score.crop_cache.readthrough.MatchImage\": {\"std\": \"264.90us\", \"mean\": \"127.46us\", \"calls\": 34}, \"score.crop_cache.get.MatchImage\": {\"std\": \"58.27us\", \"mean\": \"63.03us\", \"calls\": 54}, \"rewarder.frame\": {\"std\": \"1.75ms\", \"mean\": \"17.57ms\", \"calls\": 295}, \"rewarder.compute_reward\": {\"std\": \"4.99ms\", \"mean\": \"1.76ms\", \"calls\": 295}, \"rewarder.sleep.missed\": {\"std\": \"4.16ms\", \"mean\": \"6.04ms\", \"calls\": 16}} counters={\"agent_conn.reward\": {\"std\": 22.779774552329762, \"mean\": 42.8421052631579, \"calls\": 19}, \"reward.vnc.updates.n\": {\"std\": 0.3202313818151299, \"mean\": 0.09830508474576274, \"calls\": 295}, \"score.crop_cache.hit.MatchImage\": {\"std\": 0.0, \"mean\": 1.0, \"calls\": 20}, \"score.crop_cache.hit.OCRScorerV0\": {\"std\": 0.0, \"mean\": 1.0, \"calls\": 10}} gauges={\"reward_parser.score.last_score\": {\"value\": 1855.0, \"std\": 238.0834264469453, \"mean\": 1534.8888888888887, \"calls\": 27}} (export_time=541.45us)\n",
      "\u001b[36muniverse-PjIktf-0 |\u001b[0m [2017-06-28 16:51:51,354] [INFO:universe.rewarder.remote] [Rewarder] Over past 1.00s, sent 2 reward messages to agent: reward=35.0 reward_min=0 reward_max=35.0 done=False info={'rewarder.vnc.updates.n': 1, 'rewarder.vnc.updates.bytes': 11822, 'rewarder.profile': '<2193 bytes>', 'rewarder.vnc.updates.pixels': 13249}\n",
      "\u001b[36muniverse-PjIktf-0 |\u001b[0m [2017-06-28 16:51:52,686] [INFO:universe.rewarder.remote] [Rewarder] Over past 1.33s, sent 1 reward messages to agent: reward=119.0 reward_min=119.0 reward_max=119.0 done=False info={'rewarder.vnc.updates.n': 2, 'rewarder.vnc.updates.bytes': 1247, 'rewarder.vnc.updates.pixels': 8912}\n",
      "\u001b[36muniverse-PjIktf-0 |\u001b[0m [2017-06-28 16:51:54,831] [INFO:universe.rewarder.remote] [Rewarder] Over past 2.14s, sent 1 reward messages to agent: reward=123.0 reward_min=123.0 reward_max=123.0 done=False info={'rewarder.vnc.updates.n': 1, 'rewarder.vnc.updates.bytes': 11822, 'rewarder.vnc.updates.pixels': 13249}\n",
      "\u001b[36muniverse-PjIktf-0 |\u001b[0m [2017-06-28 16:51:55,639] [INFO:universe.wrappers.logger] Stats for the past 5.01s: vnc_updates_ps=1.0 n=1 reaction_time=None observation_lag=None action_lag=None reward_ps=0.0 reward_total=0.0 vnc_bytes_ps[total]=6975.3 vnc_pixels_ps[total]=7752.4 reward_lag=None rewarder_message_lag=None fps=59.45\n",
      "\u001b[36muniverse-PjIktf-0 |\u001b[0m [2017-06-28 16:51:55,675] [INFO:universe.pyprofile] [pyprofile] period=5.00s timers={\"score.crop_cache.get.OCRScorerV0\": {\"std\": \"34.64us\", \"mean\": \"117.66us\", \"calls\": 4}, \"reward.parsing.gameover\": {\"std\": \"1.10ms\", \"mean\": \"838.28us\", \"calls\": 4}, \"rewarder.sleep\": {\"std\": \"1.57ms\", \"mean\": \"14.99ms\", \"calls\": 294}, \"vnc_env.VNCEnv.vnc_session.step\": {\"std\": \"436.03us\", \"mean\": \"302.60us\", \"calls\": 297}, \"reward.parsing.score\": {\"std\": \"15.45ms\", \"mean\": \"21.92ms\", \"calls\": 4}, \"score.crop_cache.readthrough.OCRScorerV0\": {\"std\": \"7.47ms\", \"mean\": \"28.50ms\", \"calls\": 3}, \"score.crop_cache.readthrough.MatchImage\": {\"std\": \"218.42us\", \"mean\": \"170.31us\", \"calls\": 6}, \"score.crop_cache.get.MatchImage\": {\"std\": \"253.50us\", \"mean\": \"133.48us\", \"calls\": 8}, \"rewarder.frame\": {\"std\": \"2.11ms\", \"mean\": \"17.47ms\", \"calls\": 297}, \"rewarder.compute_reward\": {\"std\": \"3.17ms\", \"mean\": \"1.08ms\", \"calls\": 297}, \"rewarder.sleep.missed\": {\"std\": \"10.15ms\", \"mean\": \"18.35ms\", \"calls\": 3}} counters={\"agent_conn.reward\": {\"std\": 61.46204791034329, \"mean\": 69.25, \"calls\": 4}, \"reward.vnc.updates.n\": {\"std\": 0.1528537646388644, \"mean\": 0.016835016835016845, \"calls\": 297}, \"score.crop_cache.hit.MatchImage\": {\"std\": 0.0, \"mean\": 1.0, \"calls\": 2}, \"score.crop_cache.hit.OCRScorerV0\": {\"std\": 0, \"mean\": 1.0, \"calls\": 1}} gauges={\"reward_parser.score.last_score\": {\"value\": 2044.0, \"std\": 67.38446903157039, \"mean\": 1946.0, \"calls\": 4}} (export_time=298.02us)\n"
     ]
    }
   ],
   "source": [
    "# Running the infinite loop to run the agent through the environment.\n",
    "while True:\n",
    "  action_n = [[('KeyEvent', 'ArrowUp', True)] for ob in observation_n]  # your agent here\n",
    "  observation_n, reward_n, done_n, info = env.step(action_n)\n",
    "  env.render()"
   ]
  }
 ],
 "metadata": {
  "kernelspec": {
   "display_name": "Python 2",
   "language": "python",
   "name": "python2"
  },
  "language_info": {
   "codemirror_mode": {
    "name": "ipython",
    "version": 2
   },
   "file_extension": ".py",
   "mimetype": "text/x-python",
   "name": "python",
   "nbconvert_exporter": "python",
   "pygments_lexer": "ipython2",
   "version": "2.7.13"
  }
 },
 "nbformat": 4,
 "nbformat_minor": 1
}
