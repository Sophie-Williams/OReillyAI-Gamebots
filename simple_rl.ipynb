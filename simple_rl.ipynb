{
 "cells": [
  {
   "cell_type": "code",
   "execution_count": null,
   "metadata": {
    "collapsed": true
   },
   "outputs": [],
   "source": [
    "# Import Dependencies\n",
    "import gym\n",
    "import universe\n",
    "import random"
   ]
  },
  {
   "cell_type": "code",
   "execution_count": null,
   "metadata": {
    "collapsed": true
   },
   "outputs": [],
   "source": [
    "# Main reinforcement learning step\n",
    "def determine_turn(turn, observation_n, j, total_sum, prev_total_sum, reward_n):\n",
    "\t# For every 15 iterations, sum over thetotal observations, and then take the mean.\n",
    "\t# If the mean is lower than 0, change the direction of the car.\n",
    "\t# If we go 15+ iterations and get a reward each step, we're doing something right\n",
    "\t# thats when we turn\n",
    "\tif(j >= 15):\n",
    "\t\tif(total_sum/ j ) == 0:\n",
    "\t\t\tturn = True\n",
    "\t\telse:\n",
    "\t\t\tturn = False\n",
    "\n",
    "\t\t#reset vars\n",
    "\t\ttotal_sum = 0\n",
    "\t\tj = 0\n",
    "\t\tprev_total_sum = total_sum\n",
    "\t\ttotal_sum = 0\n",
    "\n",
    "\telse:\n",
    "\t\tturn = False\n",
    "\tif(observation_n != None):\n",
    "\t\t#increment counter and reward sum\n",
    "\t\tj+=1\n",
    "\t\ttotal_sum += reward_n\n",
    "\treturn(turn, j, total_sum, prev_total_sum)"
   ]
  },
  {
   "cell_type": "code",
   "execution_count": null,
   "metadata": {
    "collapsed": true
   },
   "outputs": [],
   "source": [
    "def main():\n",
    "\n",
    "\t# Initialize the environment\n",
    "\tenv = gym.make('flashgames.CoasterRacer-v0')\n",
    "\tobservation_n = env.reset()\n",
    "\n",
    "\t# Initialize some variables\n",
    "\t# Define the number of game iterations\n",
    "\tn = 0\n",
    "\tj = 0\n",
    "\t# sum of total observations\n",
    "\ttotal_sum = 0\n",
    "\tprev_total_sum = 0\n",
    "\tturn = False\n",
    "\n",
    "\t#define our turns or keyboard actions\n",
    "\tleft = [('KeyEvent', 'ArrowUp', True) ,('KeyEvent', 'ArrowLeft', True), ('KeyEvent', 'ArrowRight', False)]\n",
    "\tright = [('KeyEvent', 'ArrowUp', True) ,('KeyEvent', 'ArrowLeft', False), ('KeyEvent', 'ArrowRight', True)]\n",
    "\tforward = [('KeyEvent', 'ArrowUp', True) ,('KeyEvent', 'ArrowLeft', False), ('KeyEvent', 'ArrowRight', False)]\n",
    "\n",
    "\n",
    "\t# Main logic\n",
    "\twhile True:\n",
    "\t\t#increment a counter for number of iterations\n",
    "\t\tn+=1\n",
    "\n",
    "\t\t#if at least one iteration is made, check if turn is needed\n",
    "\t\tif(n > 1):\n",
    "\t\t\t#if at least one iteration, check if a turn\n",
    "\t\t\tif(observation_n[0] != None):\n",
    "\t\t\t\t#store the reward in the previous score\n",
    "\t\t\t\tprev_score = reward_n[0]\n",
    "\n",
    "\t\t\t\t#should we turn?\n",
    "\t\t\t\tif(turn):\n",
    "\t\t\t\t\t#pick a random event\n",
    "\t\t\t\t\t#where to turn? \n",
    "\t\t\t\t\tevent = random.choice([left,right])\n",
    "\t\t\t\t\t#perform an action\n",
    "\t\t\t\t\taction_n = [event for ob in observation_n]\n",
    "\t\t\t\t\t#set turn to false\n",
    "\t\t\t\t\tturn = False\n",
    "\n",
    "\t\telif(~turn):\n",
    "\t\t\t# If no turn is needed, keep going straight\n",
    "\t\t\taction_n = [forward for ob in observation_n]\n",
    "\n",
    "\n",
    "\t\t# If there is an obseravtion, game has started, check if turn needed\n",
    "\t\tif(observation_n[0] != None):\n",
    "\t\t\tturn, j, total_sum, prev_total_sum = determine_turn(turn, observation_n[0], j, total_sum, prev_total_sum, reward_n[0])\n",
    "\n",
    "\t\t# Save new variables for each iteration.\n",
    "\t\tobservation_n, reward_n, done_n, info = env.step(action_n)\n",
    "\n",
    "\t\tenv.render()\n"
   ]
  },
  {
   "cell_type": "code",
   "execution_count": null,
   "metadata": {
    "collapsed": false
   },
   "outputs": [],
   "source": [
    "if __name__ == '__main__':\n",
    "\tmain()\t"
   ]
  }
 ],
 "metadata": {
  "kernelspec": {
   "display_name": "Python 2",
   "language": "python",
   "name": "python2"
  },
  "language_info": {
   "codemirror_mode": {
    "name": "ipython",
    "version": 2
   },
   "file_extension": ".py",
   "mimetype": "text/x-python",
   "name": "python",
   "nbconvert_exporter": "python",
   "pygments_lexer": "ipython2",
   "version": "2.7.13"
  }
 },
 "nbformat": 4,
 "nbformat_minor": 1
}
